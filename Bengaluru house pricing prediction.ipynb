{
 "cells": [
  {
   "cell_type": "code",
   "execution_count": 1,
   "metadata": {},
   "outputs": [],
   "source": [
    "import numpy as np\n",
    "import pandas as pd\n",
    "import seaborn as sns\n",
    "from pandas.api.types import is_string_dtype, is_numeric_dtype\n",
    "import matplotlib.pyplot as plt\n",
    "%matplotlib inline"
   ]
  },
  {
   "cell_type": "markdown",
   "metadata": {},
   "source": [
    "Features: \n",
    "* Area_type - describes the area \n",
    "* Availability - when it can be possessed or when it is ready(categorical and time-series) \n",
    "* Location - where it is located in Bengaluru \n",
    "* Price - Value of the property in lakhs(INR) \n",
    "* Size - in BHK or Bedroom (1-10 or more) \n",
    "* Society - to which society it belongs \n",
    "* Total_sqft - size of the property in sq.ft\n",
    "* Bath - No. of bathrooms \n",
    "* Balcony - No. of  balconies"
   ]
  },
  {
   "cell_type": "code",
   "execution_count": 2,
   "metadata": {},
   "outputs": [
    {
     "name": "stdout",
     "output_type": "stream",
     "text": [
      "(13320, 9) (1480, 9)\n"
     ]
    }
   ],
   "source": [
    "train = pd.read_csv('Train.csv')\n",
    "test = pd.read_csv('Test.csv')\n",
    "print(train.shape, test.shape)"
   ]
  },
  {
   "cell_type": "code",
   "execution_count": 3,
   "metadata": {
    "scrolled": true
   },
   "outputs": [
    {
     "data": {
      "text/html": [
       "<div>\n",
       "<style scoped>\n",
       "    .dataframe tbody tr th:only-of-type {\n",
       "        vertical-align: middle;\n",
       "    }\n",
       "\n",
       "    .dataframe tbody tr th {\n",
       "        vertical-align: top;\n",
       "    }\n",
       "\n",
       "    .dataframe thead th {\n",
       "        text-align: right;\n",
       "    }\n",
       "</style>\n",
       "<table border=\"1\" class=\"dataframe\">\n",
       "  <thead>\n",
       "    <tr style=\"text-align: right;\">\n",
       "      <th></th>\n",
       "      <th>area_type</th>\n",
       "      <th>availability</th>\n",
       "      <th>location</th>\n",
       "      <th>size</th>\n",
       "      <th>society</th>\n",
       "      <th>total_sqft</th>\n",
       "      <th>bath</th>\n",
       "      <th>balcony</th>\n",
       "      <th>price</th>\n",
       "      <th>source</th>\n",
       "    </tr>\n",
       "  </thead>\n",
       "  <tbody>\n",
       "    <tr>\n",
       "      <th>0</th>\n",
       "      <td>Super built-up  Area</td>\n",
       "      <td>19-Dec</td>\n",
       "      <td>Electronic City Phase II</td>\n",
       "      <td>2 BHK</td>\n",
       "      <td>Coomee</td>\n",
       "      <td>1056</td>\n",
       "      <td>2.0</td>\n",
       "      <td>1.0</td>\n",
       "      <td>39.07</td>\n",
       "      <td>Train</td>\n",
       "    </tr>\n",
       "    <tr>\n",
       "      <th>1</th>\n",
       "      <td>Plot  Area</td>\n",
       "      <td>Ready To Move</td>\n",
       "      <td>Chikka Tirupathi</td>\n",
       "      <td>4 Bedroom</td>\n",
       "      <td>Theanmp</td>\n",
       "      <td>2600</td>\n",
       "      <td>5.0</td>\n",
       "      <td>3.0</td>\n",
       "      <td>120.00</td>\n",
       "      <td>Train</td>\n",
       "    </tr>\n",
       "    <tr>\n",
       "      <th>2</th>\n",
       "      <td>Built-up  Area</td>\n",
       "      <td>Ready To Move</td>\n",
       "      <td>Uttarahalli</td>\n",
       "      <td>3 BHK</td>\n",
       "      <td>NaN</td>\n",
       "      <td>1440</td>\n",
       "      <td>2.0</td>\n",
       "      <td>3.0</td>\n",
       "      <td>62.00</td>\n",
       "      <td>Train</td>\n",
       "    </tr>\n",
       "    <tr>\n",
       "      <th>3</th>\n",
       "      <td>Super built-up  Area</td>\n",
       "      <td>Ready To Move</td>\n",
       "      <td>Lingadheeranahalli</td>\n",
       "      <td>3 BHK</td>\n",
       "      <td>Soiewre</td>\n",
       "      <td>1521</td>\n",
       "      <td>3.0</td>\n",
       "      <td>1.0</td>\n",
       "      <td>95.00</td>\n",
       "      <td>Train</td>\n",
       "    </tr>\n",
       "    <tr>\n",
       "      <th>4</th>\n",
       "      <td>Super built-up  Area</td>\n",
       "      <td>Ready To Move</td>\n",
       "      <td>Kothanur</td>\n",
       "      <td>2 BHK</td>\n",
       "      <td>NaN</td>\n",
       "      <td>1200</td>\n",
       "      <td>2.0</td>\n",
       "      <td>1.0</td>\n",
       "      <td>51.00</td>\n",
       "      <td>Train</td>\n",
       "    </tr>\n",
       "  </tbody>\n",
       "</table>\n",
       "</div>"
      ],
      "text/plain": [
       "              area_type   availability                  location       size  \\\n",
       "0  Super built-up  Area         19-Dec  Electronic City Phase II      2 BHK   \n",
       "1            Plot  Area  Ready To Move          Chikka Tirupathi  4 Bedroom   \n",
       "2        Built-up  Area  Ready To Move               Uttarahalli      3 BHK   \n",
       "3  Super built-up  Area  Ready To Move        Lingadheeranahalli      3 BHK   \n",
       "4  Super built-up  Area  Ready To Move                  Kothanur      2 BHK   \n",
       "\n",
       "   society total_sqft  bath  balcony   price source  \n",
       "0  Coomee        1056   2.0      1.0   39.07  Train  \n",
       "1  Theanmp       2600   5.0      3.0  120.00  Train  \n",
       "2      NaN       1440   2.0      3.0   62.00  Train  \n",
       "3  Soiewre       1521   3.0      1.0   95.00  Train  \n",
       "4      NaN       1200   2.0      1.0   51.00  Train  "
      ]
     },
     "execution_count": 3,
     "metadata": {},
     "output_type": "execute_result"
    }
   ],
   "source": [
    "train['source'] = 'Train'\n",
    "test['source'] = 'Test'\n",
    "\n",
    "data = pd.concat([train, test], ignore_index=True)\n",
    "data.head()"
   ]
  },
  {
   "cell_type": "code",
   "execution_count": 4,
   "metadata": {},
   "outputs": [
    {
     "name": "stdout",
     "output_type": "stream",
     "text": [
      "<class 'pandas.core.frame.DataFrame'>\n",
      "RangeIndex: 14800 entries, 0 to 14799\n",
      "Data columns (total 10 columns):\n",
      " #   Column        Non-Null Count  Dtype  \n",
      "---  ------        --------------  -----  \n",
      " 0   area_type     14800 non-null  object \n",
      " 1   availability  14800 non-null  object \n",
      " 2   location      14799 non-null  object \n",
      " 3   size          14782 non-null  object \n",
      " 4   society       8672 non-null   object \n",
      " 5   total_sqft    14800 non-null  object \n",
      " 6   bath          14720 non-null  float64\n",
      " 7   balcony       14122 non-null  float64\n",
      " 8   price         13320 non-null  float64\n",
      " 9   source        14800 non-null  object \n",
      "dtypes: float64(3), object(7)\n",
      "memory usage: 1.1+ MB\n"
     ]
    }
   ],
   "source": [
    "data.info()"
   ]
  },
  {
   "cell_type": "markdown",
   "metadata": {},
   "source": [
    "* `total_sqft` feature has not been infered as numeric. Lets fix that column before proceeding with the exploratory data analysis.\n",
    "\n",
    "We need to know which values can´t be converted into numeric:"
   ]
  },
  {
   "cell_type": "code",
   "execution_count": 5,
   "metadata": {},
   "outputs": [],
   "source": [
    "total_sqft = data['total_sqft'].values.tolist()\n",
    "not_numeric = []\n",
    "\n",
    "for i in range(len(total_sqft)):\n",
    "    try:\n",
    "        float(total_sqft[i])\n",
    "    except:\n",
    "        not_numeric.append(total_sqft[i])"
   ]
  },
  {
   "cell_type": "code",
   "execution_count": 6,
   "metadata": {},
   "outputs": [
    {
     "data": {
      "text/plain": [
       "['2100 - 2850',\n",
       " '3010 - 3410',\n",
       " '2957 - 3450',\n",
       " '3067 - 8156',\n",
       " '1042 - 1105',\n",
       " '1145 - 1340',\n",
       " '1015 - 1540',\n",
       " '1520 - 1740',\n",
       " '34.46Sq. Meter',\n",
       " '1195 - 1440',\n",
       " '1200 - 2400',\n",
       " '4125Perch',\n",
       " '1120 - 1145',\n",
       " '4400 - 6640',\n",
       " '3090 - 5002',\n",
       " '4400 - 6800',\n",
       " '1160 - 1195',\n",
       " '1000Sq. Meter',\n",
       " '4000 - 5249',\n",
       " '1115 - 1130',\n",
       " '1100Sq. Yards',\n",
       " '520 - 645',\n",
       " '1000 - 1285',\n",
       " '3606 - 5091',\n",
       " '650 - 665',\n",
       " '633 - 666',\n",
       " '5.31Acres',\n",
       " '30Acres',\n",
       " '1445 - 1455',\n",
       " '884 - 1116',\n",
       " '850 - 1093',\n",
       " '1440 - 1884',\n",
       " '716Sq. Meter',\n",
       " '547.34 - 827.31',\n",
       " '580 - 650',\n",
       " '3425 - 3435',\n",
       " '1804 - 2273',\n",
       " '3630 - 3800',\n",
       " '660 - 670',\n",
       " '4000 - 5249',\n",
       " '1500Sq. Meter',\n",
       " '620 - 933',\n",
       " '142.61Sq. Meter',\n",
       " '2695 - 2940',\n",
       " '2000 - 5634',\n",
       " '1574Sq. Yards',\n",
       " '3450 - 3472',\n",
       " '1250 - 1305',\n",
       " '670 - 980',\n",
       " '1005.03 - 1252.49',\n",
       " '3630 - 3800',\n",
       " '1004 - 1204',\n",
       " '361.33Sq. Yards',\n",
       " '645 - 936',\n",
       " '2710 - 3360',\n",
       " '2249.81 - 4112.19',\n",
       " '3436 - 3643',\n",
       " '2830 - 2882',\n",
       " '596 - 804',\n",
       " '1255 - 1863',\n",
       " '1300 - 1405',\n",
       " '1200 - 2400',\n",
       " '1500 - 2400',\n",
       " '117Sq. Yards',\n",
       " '934 - 1437',\n",
       " '980 - 1030',\n",
       " '1564 - 1850',\n",
       " '1446 - 1506',\n",
       " '2249.81 - 4112.19',\n",
       " '1070 - 1315',\n",
       " '3040Sq. Meter',\n",
       " '500Sq. Yards',\n",
       " '2806 - 3019',\n",
       " '613 - 648',\n",
       " '1430 - 1630',\n",
       " '704 - 730',\n",
       " '1482 - 1846',\n",
       " '2805 - 3565',\n",
       " '3293 - 5314',\n",
       " '1210 - 1477',\n",
       " '3369 - 3464',\n",
       " '1125 - 1500',\n",
       " '167Sq. Meter',\n",
       " '1076 - 1199',\n",
       " '381 - 535',\n",
       " '2215 - 2475',\n",
       " '524 - 894',\n",
       " '540 - 670',\n",
       " '315Sq. Yards',\n",
       " '1650 - 2538',\n",
       " '2725 - 3250',\n",
       " '1974 - 2171',\n",
       " '888 - 1290',\n",
       " '1360 - 1890',\n",
       " '2466 - 2856',\n",
       " '660 - 700',\n",
       " '385 - 440',\n",
       " '2100 - 5405',\n",
       " '770 - 841',\n",
       " '524 - 894',\n",
       " '3Cents',\n",
       " '1310 - 1615',\n",
       " '1782 - 2000',\n",
       " '188.89Sq. Yards',\n",
       " '1469 - 1766',\n",
       " '204Sq. Meter',\n",
       " '1255 - 1350',\n",
       " '870 - 1080',\n",
       " '45Sq. Yards',\n",
       " '133.3Sq. Yards',\n",
       " '2580 - 2591',\n",
       " '613 - 648',\n",
       " '2563 - 2733',\n",
       " '605 - 624',\n",
       " '4260 - 4408',\n",
       " '1349 - 3324',\n",
       " '78.03Sq. Meter',\n",
       " '1255 - 1350',\n",
       " '3300 - 3335',\n",
       " '1180 - 1630',\n",
       " '1365 - 1700',\n",
       " '3500 - 3600',\n",
       " '122Sq. Yards',\n",
       " '2830 - 2882',\n",
       " '84.53Sq. Meter',\n",
       " '2.09Acres',\n",
       " '2830 - 2882',\n",
       " '1482 - 1684',\n",
       " '981 - 1249',\n",
       " '1100 - 1225',\n",
       " '1565 - 1595',\n",
       " '24Guntha',\n",
       " '1270 - 1275',\n",
       " '840 - 1010',\n",
       " '697Sq. Meter',\n",
       " '2830 - 2882',\n",
       " '655 - 742',\n",
       " '800 - 2660',\n",
       " '1408 - 1455',\n",
       " '4050 - 4075',\n",
       " '942 - 1117',\n",
       " '1750 - 2640',\n",
       " '142.61Sq. Meter',\n",
       " '1390 - 1600',\n",
       " '598 - 958',\n",
       " '1500Cents',\n",
       " '132Sq. Yards',\n",
       " '1010 - 1300',\n",
       " '2Acres',\n",
       " '3103 - 3890',\n",
       " '1450 - 1950',\n",
       " '1100Sq. Meter',\n",
       " '15Acres',\n",
       " '1450 - 1595',\n",
       " '763 - 805',\n",
       " '3307 - 3464',\n",
       " '1.26Acres',\n",
       " '620 - 934',\n",
       " '2462 - 2467',\n",
       " '540 - 740',\n",
       " '1618 - 1929',\n",
       " '3508 - 4201',\n",
       " '2249.81 - 4112.19',\n",
       " '4900 - 4940',\n",
       " '1610 - 1880',\n",
       " '755 - 770',\n",
       " '664 - 722',\n",
       " '151.11Sq. Yards',\n",
       " '700 - 900',\n",
       " '596 - 861',\n",
       " '1925 - 2680',\n",
       " '615 - 985',\n",
       " '1200 - 2400',\n",
       " '540 - 565',\n",
       " '1390 - 1600',\n",
       " '750 - 800',\n",
       " '1660 - 1805',\n",
       " '1365 - 1700',\n",
       " '1410 - 1710',\n",
       " '1079 - 1183',\n",
       " '2800 - 2870',\n",
       " '1230 - 1290',\n",
       " '943 - 1220',\n",
       " '2041 - 2090',\n",
       " '527 - 639',\n",
       " '645 - 936',\n",
       " '1Grounds',\n",
       " '1160 - 1315',\n",
       " '706 - 716',\n",
       " '2940Sq. Yards',\n",
       " '1791 - 4000',\n",
       " '45.06Sq. Meter',\n",
       " '799 - 803',\n",
       " '2470 - 2790',\n",
       " '783 - 943',\n",
       " '4500 - 5540',\n",
       " '1255 - 1375',\n",
       " '1430 - 1630',\n",
       " '610 - 615',\n",
       " '854 - 960',\n",
       " '2650 - 2990',\n",
       " '1.25Acres',\n",
       " '86.72Sq. Meter',\n",
       " '381 - 535',\n",
       " '1230 - 1490',\n",
       " '3630 - 3800',\n",
       " '660 - 780',\n",
       " '1618 - 1929',\n",
       " '1150 - 1194',\n",
       " '684 - 810',\n",
       " '1200 - 1800',\n",
       " '1510 - 1670',\n",
       " '1550 - 1590',\n",
       " '1235 - 1410',\n",
       " '3484 - 3550',\n",
       " '38Guntha',\n",
       " '929 - 1078',\n",
       " '2150 - 2225',\n",
       " '1520 - 1759',\n",
       " '2580 - 2591',\n",
       " '629 - 1026',\n",
       " '1215 - 1495',\n",
       " '6Acres',\n",
       " '1140 - 1250',\n",
       " '2400 - 2600',\n",
       " '1052 - 1322',\n",
       " '5666 - 5669',\n",
       " '620 - 934',\n",
       " '712 - 938',\n",
       " '1783 - 1878',\n",
       " '120Sq. Yards',\n",
       " '24Sq. Meter',\n",
       " '2528 - 3188',\n",
       " '650 - 760',\n",
       " '1400 - 1421',\n",
       " '4000 - 4450',\n",
       " '142.84Sq. Meter',\n",
       " '300Sq. Yards',\n",
       " '1115 - 1130',\n",
       " '2204 - 2362',\n",
       " '1437 - 1629',\n",
       " '850 - 1060',\n",
       " '1804 - 2273',\n",
       " '1200 - 1470',\n",
       " '1020 - 1130',\n",
       " '1133 - 1384',\n",
       " '2830 - 2882',\n",
       " '1691 - 2170',\n",
       " '1200 - 2000',\n",
       " '1892 - 2798',\n",
       " '524 - 894',\n",
       " '534 - 763',\n",
       " '1498 - 1523',\n",
       " '5Acres',\n",
       " '660 - 690',\n",
       " '1165 - 1225',\n",
       " '2695 - 2940',\n",
       " '1975 - 2289',\n",
       " '700 - 800',\n",
       " '2695 - 2940',\n",
       " '100Sq. Meter',\n",
       " '530 - 575',\n",
       " '1160 - 1260',\n",
       " '1741 - 2074',\n",
       " '1152 - 1197',\n",
       " '2830 - 2882',\n",
       " '600 - 4000',\n",
       " '3307 - 3464',\n",
       " '2695 - 2940',\n",
       " '2563 - 3914',\n",
       " '475 - 1058.27']"
      ]
     },
     "execution_count": 6,
     "metadata": {},
     "output_type": "execute_result"
    }
   ],
   "source": [
    "not_numeric"
   ]
  },
  {
   "cell_type": "markdown",
   "metadata": {},
   "source": [
    "Some of the values come in different units, so they must be converted to sqft. Others are in between two values and we will calculate the mean.\n",
    "\n",
    "Possible different measurements units and its equivalence in sqft:\n",
    "* 1 Sq. Meter = 10.7639 sqft\n",
    "* 1 Perch = 272.25 sqft\n",
    "* 1 Sq. Yards = 9 sqft\n",
    "* 1 Acres = 43560 sqft\n",
    "* 1 Cents = 435.6 sqft\n",
    "* 1 Guntha = 1.089 sqft\n",
    "* 1 Grounds = 2400 sqft\n",
    "\n",
    "The following function converts to square feet the area. It needs a dataframe, a sting containing the measurement unit and its equivalence in square feet."
   ]
  },
  {
   "cell_type": "code",
   "execution_count": 7,
   "metadata": {},
   "outputs": [],
   "source": [
    "def convert_to_sqft (df, measure, equivalence_in_sqft):\n",
    "    df_temp = df[df.total_sqft.str.contains(measure, na=False)]\n",
    "    if df_temp.shape[0]>0:\n",
    "        df_temp = df_temp.total_sqft.str.split(pat = measure, expand=True)\n",
    "        df_temp.drop(columns = 1,inplace = True)\n",
    "        df_temp.columns = ['total_sqft']\n",
    "        df_temp.total_sqft = df_temp.total_sqft.astype(float) * equivalence_in_sqft\n",
    "        ind = df_temp.index.values.tolist()\n",
    "\n",
    "        for i in ind:\n",
    "            df.loc[i, 'total_sqft'] = df_temp.loc[i, 'total_sqft']\n",
    "    \n",
    "    return df;"
   ]
  },
  {
   "cell_type": "code",
   "execution_count": 8,
   "metadata": {
    "scrolled": true
   },
   "outputs": [
    {
     "data": {
      "text/html": [
       "<div>\n",
       "<style scoped>\n",
       "    .dataframe tbody tr th:only-of-type {\n",
       "        vertical-align: middle;\n",
       "    }\n",
       "\n",
       "    .dataframe tbody tr th {\n",
       "        vertical-align: top;\n",
       "    }\n",
       "\n",
       "    .dataframe thead th {\n",
       "        text-align: right;\n",
       "    }\n",
       "</style>\n",
       "<table border=\"1\" class=\"dataframe\">\n",
       "  <thead>\n",
       "    <tr style=\"text-align: right;\">\n",
       "      <th></th>\n",
       "      <th>area_type</th>\n",
       "      <th>availability</th>\n",
       "      <th>location</th>\n",
       "      <th>size</th>\n",
       "      <th>society</th>\n",
       "      <th>total_sqft</th>\n",
       "      <th>bath</th>\n",
       "      <th>balcony</th>\n",
       "      <th>price</th>\n",
       "      <th>source</th>\n",
       "    </tr>\n",
       "  </thead>\n",
       "  <tbody>\n",
       "    <tr>\n",
       "      <th>0</th>\n",
       "      <td>Super built-up  Area</td>\n",
       "      <td>19-Dec</td>\n",
       "      <td>Electronic City Phase II</td>\n",
       "      <td>2 BHK</td>\n",
       "      <td>Coomee</td>\n",
       "      <td>1056</td>\n",
       "      <td>2.0</td>\n",
       "      <td>1.0</td>\n",
       "      <td>39.07</td>\n",
       "      <td>Train</td>\n",
       "    </tr>\n",
       "    <tr>\n",
       "      <th>1</th>\n",
       "      <td>Plot  Area</td>\n",
       "      <td>Ready To Move</td>\n",
       "      <td>Chikka Tirupathi</td>\n",
       "      <td>4 Bedroom</td>\n",
       "      <td>Theanmp</td>\n",
       "      <td>2600</td>\n",
       "      <td>5.0</td>\n",
       "      <td>3.0</td>\n",
       "      <td>120.00</td>\n",
       "      <td>Train</td>\n",
       "    </tr>\n",
       "    <tr>\n",
       "      <th>2</th>\n",
       "      <td>Built-up  Area</td>\n",
       "      <td>Ready To Move</td>\n",
       "      <td>Uttarahalli</td>\n",
       "      <td>3 BHK</td>\n",
       "      <td>NaN</td>\n",
       "      <td>1440</td>\n",
       "      <td>2.0</td>\n",
       "      <td>3.0</td>\n",
       "      <td>62.00</td>\n",
       "      <td>Train</td>\n",
       "    </tr>\n",
       "    <tr>\n",
       "      <th>3</th>\n",
       "      <td>Super built-up  Area</td>\n",
       "      <td>Ready To Move</td>\n",
       "      <td>Lingadheeranahalli</td>\n",
       "      <td>3 BHK</td>\n",
       "      <td>Soiewre</td>\n",
       "      <td>1521</td>\n",
       "      <td>3.0</td>\n",
       "      <td>1.0</td>\n",
       "      <td>95.00</td>\n",
       "      <td>Train</td>\n",
       "    </tr>\n",
       "    <tr>\n",
       "      <th>4</th>\n",
       "      <td>Super built-up  Area</td>\n",
       "      <td>Ready To Move</td>\n",
       "      <td>Kothanur</td>\n",
       "      <td>2 BHK</td>\n",
       "      <td>NaN</td>\n",
       "      <td>1200</td>\n",
       "      <td>2.0</td>\n",
       "      <td>1.0</td>\n",
       "      <td>51.00</td>\n",
       "      <td>Train</td>\n",
       "    </tr>\n",
       "    <tr>\n",
       "      <th>...</th>\n",
       "      <td>...</td>\n",
       "      <td>...</td>\n",
       "      <td>...</td>\n",
       "      <td>...</td>\n",
       "      <td>...</td>\n",
       "      <td>...</td>\n",
       "      <td>...</td>\n",
       "      <td>...</td>\n",
       "      <td>...</td>\n",
       "      <td>...</td>\n",
       "    </tr>\n",
       "    <tr>\n",
       "      <th>14795</th>\n",
       "      <td>Super built-up  Area</td>\n",
       "      <td>Ready To Move</td>\n",
       "      <td>Vittasandra</td>\n",
       "      <td>2 BHK</td>\n",
       "      <td>Prlla C</td>\n",
       "      <td>1246</td>\n",
       "      <td>2.0</td>\n",
       "      <td>1.0</td>\n",
       "      <td>NaN</td>\n",
       "      <td>Test</td>\n",
       "    </tr>\n",
       "    <tr>\n",
       "      <th>14796</th>\n",
       "      <td>Super built-up  Area</td>\n",
       "      <td>Ready To Move</td>\n",
       "      <td>Gottigere</td>\n",
       "      <td>3 BHK</td>\n",
       "      <td>NaN</td>\n",
       "      <td>1660</td>\n",
       "      <td>3.0</td>\n",
       "      <td>2.0</td>\n",
       "      <td>NaN</td>\n",
       "      <td>Test</td>\n",
       "    </tr>\n",
       "    <tr>\n",
       "      <th>14797</th>\n",
       "      <td>Super built-up  Area</td>\n",
       "      <td>Ready To Move</td>\n",
       "      <td>Channasandra</td>\n",
       "      <td>2 BHK</td>\n",
       "      <td>Unm 2El</td>\n",
       "      <td>1216</td>\n",
       "      <td>2.0</td>\n",
       "      <td>2.0</td>\n",
       "      <td>NaN</td>\n",
       "      <td>Test</td>\n",
       "    </tr>\n",
       "    <tr>\n",
       "      <th>14798</th>\n",
       "      <td>Built-up  Area</td>\n",
       "      <td>18-Feb</td>\n",
       "      <td>Tumkur Road</td>\n",
       "      <td>2 BHK</td>\n",
       "      <td>Sahtsva</td>\n",
       "      <td>996</td>\n",
       "      <td>2.0</td>\n",
       "      <td>1.0</td>\n",
       "      <td>NaN</td>\n",
       "      <td>Test</td>\n",
       "    </tr>\n",
       "    <tr>\n",
       "      <th>14799</th>\n",
       "      <td>Built-up  Area</td>\n",
       "      <td>Ready To Move</td>\n",
       "      <td>7th Phase JP Nagar</td>\n",
       "      <td>2 BHK</td>\n",
       "      <td>MaicaRS</td>\n",
       "      <td>1150</td>\n",
       "      <td>2.0</td>\n",
       "      <td>2.0</td>\n",
       "      <td>NaN</td>\n",
       "      <td>Test</td>\n",
       "    </tr>\n",
       "  </tbody>\n",
       "</table>\n",
       "<p>14800 rows × 10 columns</p>\n",
       "</div>"
      ],
      "text/plain": [
       "                  area_type   availability                  location  \\\n",
       "0      Super built-up  Area         19-Dec  Electronic City Phase II   \n",
       "1                Plot  Area  Ready To Move          Chikka Tirupathi   \n",
       "2            Built-up  Area  Ready To Move               Uttarahalli   \n",
       "3      Super built-up  Area  Ready To Move        Lingadheeranahalli   \n",
       "4      Super built-up  Area  Ready To Move                  Kothanur   \n",
       "...                     ...            ...                       ...   \n",
       "14795  Super built-up  Area  Ready To Move               Vittasandra   \n",
       "14796  Super built-up  Area  Ready To Move                 Gottigere   \n",
       "14797  Super built-up  Area  Ready To Move              Channasandra   \n",
       "14798        Built-up  Area         18-Feb               Tumkur Road   \n",
       "14799        Built-up  Area  Ready To Move        7th Phase JP Nagar   \n",
       "\n",
       "            size  society total_sqft  bath  balcony   price source  \n",
       "0          2 BHK  Coomee        1056   2.0      1.0   39.07  Train  \n",
       "1      4 Bedroom  Theanmp       2600   5.0      3.0  120.00  Train  \n",
       "2          3 BHK      NaN       1440   2.0      3.0   62.00  Train  \n",
       "3          3 BHK  Soiewre       1521   3.0      1.0   95.00  Train  \n",
       "4          2 BHK      NaN       1200   2.0      1.0   51.00  Train  \n",
       "...          ...      ...        ...   ...      ...     ...    ...  \n",
       "14795      2 BHK  Prlla C       1246   2.0      1.0     NaN   Test  \n",
       "14796      3 BHK      NaN       1660   3.0      2.0     NaN   Test  \n",
       "14797      2 BHK  Unm 2El       1216   2.0      2.0     NaN   Test  \n",
       "14798      2 BHK  Sahtsva        996   2.0      1.0     NaN   Test  \n",
       "14799      2 BHK  MaicaRS       1150   2.0      2.0     NaN   Test  \n",
       "\n",
       "[14800 rows x 10 columns]"
      ]
     },
     "execution_count": 8,
     "metadata": {},
     "output_type": "execute_result"
    }
   ],
   "source": [
    "convert_to_sqft(data, 'Sq. Yards', 9)\n",
    "convert_to_sqft(data, 'Guntha', 1.089)\n",
    "convert_to_sqft(data, 'Acres', 43560)\n",
    "convert_to_sqft(data, 'Sq. Meter', 10.7639)\n",
    "convert_to_sqft(data, 'Perch', 272.25)\n",
    "convert_to_sqft(data, 'Cents', 435.6)\n",
    "convert_to_sqft(data, 'Ground', 2400)"
   ]
  },
  {
   "cell_type": "markdown",
   "metadata": {},
   "source": [
    "The following function substitutes the values that have an interval by their mean."
   ]
  },
  {
   "cell_type": "code",
   "execution_count": 9,
   "metadata": {},
   "outputs": [],
   "source": [
    "#This function checks if there is a range in the area column and calculates the mean\n",
    "def calculate_sqft_mean (df): \n",
    "    df_temp = df[df.total_sqft.str.contains(' - ', na=False)]\n",
    "    if df_temp.shape[0]>0:\n",
    "        df_temp = df_temp.total_sqft.str.split(pat = ' - ', expand=True)\n",
    "        df_temp['total_sqft'] = (df_temp[0].astype(float)+df_temp[1].astype(float))/2\n",
    "        ind = df_temp.index.values.tolist()\n",
    "        \n",
    "        for i in ind:\n",
    "            df.loc[i, 'total_sqft'] = df_temp.loc[i, 'total_sqft']\n",
    "        \n",
    "    return df;"
   ]
  },
  {
   "cell_type": "code",
   "execution_count": 10,
   "metadata": {},
   "outputs": [
    {
     "data": {
      "text/html": [
       "<div>\n",
       "<style scoped>\n",
       "    .dataframe tbody tr th:only-of-type {\n",
       "        vertical-align: middle;\n",
       "    }\n",
       "\n",
       "    .dataframe tbody tr th {\n",
       "        vertical-align: top;\n",
       "    }\n",
       "\n",
       "    .dataframe thead th {\n",
       "        text-align: right;\n",
       "    }\n",
       "</style>\n",
       "<table border=\"1\" class=\"dataframe\">\n",
       "  <thead>\n",
       "    <tr style=\"text-align: right;\">\n",
       "      <th></th>\n",
       "      <th>area_type</th>\n",
       "      <th>availability</th>\n",
       "      <th>location</th>\n",
       "      <th>size</th>\n",
       "      <th>society</th>\n",
       "      <th>total_sqft</th>\n",
       "      <th>bath</th>\n",
       "      <th>balcony</th>\n",
       "      <th>price</th>\n",
       "      <th>source</th>\n",
       "    </tr>\n",
       "  </thead>\n",
       "  <tbody>\n",
       "    <tr>\n",
       "      <th>0</th>\n",
       "      <td>Super built-up  Area</td>\n",
       "      <td>19-Dec</td>\n",
       "      <td>Electronic City Phase II</td>\n",
       "      <td>2 BHK</td>\n",
       "      <td>Coomee</td>\n",
       "      <td>1056</td>\n",
       "      <td>2.0</td>\n",
       "      <td>1.0</td>\n",
       "      <td>39.07</td>\n",
       "      <td>Train</td>\n",
       "    </tr>\n",
       "    <tr>\n",
       "      <th>1</th>\n",
       "      <td>Plot  Area</td>\n",
       "      <td>Ready To Move</td>\n",
       "      <td>Chikka Tirupathi</td>\n",
       "      <td>4 Bedroom</td>\n",
       "      <td>Theanmp</td>\n",
       "      <td>2600</td>\n",
       "      <td>5.0</td>\n",
       "      <td>3.0</td>\n",
       "      <td>120.00</td>\n",
       "      <td>Train</td>\n",
       "    </tr>\n",
       "    <tr>\n",
       "      <th>2</th>\n",
       "      <td>Built-up  Area</td>\n",
       "      <td>Ready To Move</td>\n",
       "      <td>Uttarahalli</td>\n",
       "      <td>3 BHK</td>\n",
       "      <td>NaN</td>\n",
       "      <td>1440</td>\n",
       "      <td>2.0</td>\n",
       "      <td>3.0</td>\n",
       "      <td>62.00</td>\n",
       "      <td>Train</td>\n",
       "    </tr>\n",
       "    <tr>\n",
       "      <th>3</th>\n",
       "      <td>Super built-up  Area</td>\n",
       "      <td>Ready To Move</td>\n",
       "      <td>Lingadheeranahalli</td>\n",
       "      <td>3 BHK</td>\n",
       "      <td>Soiewre</td>\n",
       "      <td>1521</td>\n",
       "      <td>3.0</td>\n",
       "      <td>1.0</td>\n",
       "      <td>95.00</td>\n",
       "      <td>Train</td>\n",
       "    </tr>\n",
       "    <tr>\n",
       "      <th>4</th>\n",
       "      <td>Super built-up  Area</td>\n",
       "      <td>Ready To Move</td>\n",
       "      <td>Kothanur</td>\n",
       "      <td>2 BHK</td>\n",
       "      <td>NaN</td>\n",
       "      <td>1200</td>\n",
       "      <td>2.0</td>\n",
       "      <td>1.0</td>\n",
       "      <td>51.00</td>\n",
       "      <td>Train</td>\n",
       "    </tr>\n",
       "    <tr>\n",
       "      <th>...</th>\n",
       "      <td>...</td>\n",
       "      <td>...</td>\n",
       "      <td>...</td>\n",
       "      <td>...</td>\n",
       "      <td>...</td>\n",
       "      <td>...</td>\n",
       "      <td>...</td>\n",
       "      <td>...</td>\n",
       "      <td>...</td>\n",
       "      <td>...</td>\n",
       "    </tr>\n",
       "    <tr>\n",
       "      <th>14795</th>\n",
       "      <td>Super built-up  Area</td>\n",
       "      <td>Ready To Move</td>\n",
       "      <td>Vittasandra</td>\n",
       "      <td>2 BHK</td>\n",
       "      <td>Prlla C</td>\n",
       "      <td>1246</td>\n",
       "      <td>2.0</td>\n",
       "      <td>1.0</td>\n",
       "      <td>NaN</td>\n",
       "      <td>Test</td>\n",
       "    </tr>\n",
       "    <tr>\n",
       "      <th>14796</th>\n",
       "      <td>Super built-up  Area</td>\n",
       "      <td>Ready To Move</td>\n",
       "      <td>Gottigere</td>\n",
       "      <td>3 BHK</td>\n",
       "      <td>NaN</td>\n",
       "      <td>1660</td>\n",
       "      <td>3.0</td>\n",
       "      <td>2.0</td>\n",
       "      <td>NaN</td>\n",
       "      <td>Test</td>\n",
       "    </tr>\n",
       "    <tr>\n",
       "      <th>14797</th>\n",
       "      <td>Super built-up  Area</td>\n",
       "      <td>Ready To Move</td>\n",
       "      <td>Channasandra</td>\n",
       "      <td>2 BHK</td>\n",
       "      <td>Unm 2El</td>\n",
       "      <td>1216</td>\n",
       "      <td>2.0</td>\n",
       "      <td>2.0</td>\n",
       "      <td>NaN</td>\n",
       "      <td>Test</td>\n",
       "    </tr>\n",
       "    <tr>\n",
       "      <th>14798</th>\n",
       "      <td>Built-up  Area</td>\n",
       "      <td>18-Feb</td>\n",
       "      <td>Tumkur Road</td>\n",
       "      <td>2 BHK</td>\n",
       "      <td>Sahtsva</td>\n",
       "      <td>996</td>\n",
       "      <td>2.0</td>\n",
       "      <td>1.0</td>\n",
       "      <td>NaN</td>\n",
       "      <td>Test</td>\n",
       "    </tr>\n",
       "    <tr>\n",
       "      <th>14799</th>\n",
       "      <td>Built-up  Area</td>\n",
       "      <td>Ready To Move</td>\n",
       "      <td>7th Phase JP Nagar</td>\n",
       "      <td>2 BHK</td>\n",
       "      <td>MaicaRS</td>\n",
       "      <td>1150</td>\n",
       "      <td>2.0</td>\n",
       "      <td>2.0</td>\n",
       "      <td>NaN</td>\n",
       "      <td>Test</td>\n",
       "    </tr>\n",
       "  </tbody>\n",
       "</table>\n",
       "<p>14800 rows × 10 columns</p>\n",
       "</div>"
      ],
      "text/plain": [
       "                  area_type   availability                  location  \\\n",
       "0      Super built-up  Area         19-Dec  Electronic City Phase II   \n",
       "1                Plot  Area  Ready To Move          Chikka Tirupathi   \n",
       "2            Built-up  Area  Ready To Move               Uttarahalli   \n",
       "3      Super built-up  Area  Ready To Move        Lingadheeranahalli   \n",
       "4      Super built-up  Area  Ready To Move                  Kothanur   \n",
       "...                     ...            ...                       ...   \n",
       "14795  Super built-up  Area  Ready To Move               Vittasandra   \n",
       "14796  Super built-up  Area  Ready To Move                 Gottigere   \n",
       "14797  Super built-up  Area  Ready To Move              Channasandra   \n",
       "14798        Built-up  Area         18-Feb               Tumkur Road   \n",
       "14799        Built-up  Area  Ready To Move        7th Phase JP Nagar   \n",
       "\n",
       "            size  society total_sqft  bath  balcony   price source  \n",
       "0          2 BHK  Coomee        1056   2.0      1.0   39.07  Train  \n",
       "1      4 Bedroom  Theanmp       2600   5.0      3.0  120.00  Train  \n",
       "2          3 BHK      NaN       1440   2.0      3.0   62.00  Train  \n",
       "3          3 BHK  Soiewre       1521   3.0      1.0   95.00  Train  \n",
       "4          2 BHK      NaN       1200   2.0      1.0   51.00  Train  \n",
       "...          ...      ...        ...   ...      ...     ...    ...  \n",
       "14795      2 BHK  Prlla C       1246   2.0      1.0     NaN   Test  \n",
       "14796      3 BHK      NaN       1660   3.0      2.0     NaN   Test  \n",
       "14797      2 BHK  Unm 2El       1216   2.0      2.0     NaN   Test  \n",
       "14798      2 BHK  Sahtsva        996   2.0      1.0     NaN   Test  \n",
       "14799      2 BHK  MaicaRS       1150   2.0      2.0     NaN   Test  \n",
       "\n",
       "[14800 rows x 10 columns]"
      ]
     },
     "execution_count": 10,
     "metadata": {},
     "output_type": "execute_result"
    }
   ],
   "source": [
    "calculate_sqft_mean(data)"
   ]
  },
  {
   "cell_type": "markdown",
   "metadata": {},
   "source": [
    "Now we can try to convert the column into numeric:"
   ]
  },
  {
   "cell_type": "code",
   "execution_count": 11,
   "metadata": {},
   "outputs": [],
   "source": [
    "data['total_sqft'] = data['total_sqft'].astype(float)"
   ]
  },
  {
   "cell_type": "markdown",
   "metadata": {},
   "source": [
    "# Checking for Outliers\n",
    "\n",
    "Next step is to check whether there are some values that might be removed."
   ]
  },
  {
   "cell_type": "code",
   "execution_count": 12,
   "metadata": {},
   "outputs": [],
   "source": [
    "import matplotlib.pyplot as plt"
   ]
  },
  {
   "cell_type": "code",
   "execution_count": 13,
   "metadata": {},
   "outputs": [
    {
     "data": {
      "text/plain": [
       "<matplotlib.collections.PathCollection at 0x245259f9fd0>"
      ]
     },
     "execution_count": 13,
     "metadata": {},
     "output_type": "execute_result"
    },
    {
     "data": {
      "image/png": "[encoded data removed]",
      "text/plain": [
       "<Figure size 432x288 with 1 Axes>"
      ]
     },
     "metadata": {
      "needs_background": "light"
     },
     "output_type": "display_data"
    }
   ],
   "source": [
    "plt.scatter(data.index, data.price, color='r')"
   ]
  },
  {
   "cell_type": "markdown",
   "metadata": {},
   "source": [
    "We will remove every house that has a price above percentile 90, we can come back later to try with different percentiles."
   ]
  },
  {
   "cell_type": "code",
   "execution_count": 14,
   "metadata": {},
   "outputs": [
    {
     "name": "stdout",
     "output_type": "stream",
     "text": [
      "Upper limit: 2428.5300000000643\n",
      "Lower limit: 10.0\n"
     ]
    }
   ],
   "source": [
    "up_lim = data.price.quantile(0.9995)\n",
    "print('Upper limit:', up_lim)\n",
    "\n",
    "low_lim = data.price.quantile(0.0005)\n",
    "print('Lower limit:', low_lim)"
   ]
  },
  {
   "cell_type": "code",
   "execution_count": 15,
   "metadata": {},
   "outputs": [],
   "source": [
    "x_up = list(data[data.price > up_lim].index)\n",
    "y_up = data[data.price > up_lim]\n",
    "\n",
    "x_lo = list(data[data.price < low_lim].index)\n",
    "y_lo = data[data.price < low_lim]\n",
    "\n",
    "x_in = list((data[data.price <= up_lim].index) & (data[data.price >= low_lim].index))\n",
    "y_in = data[(data.price <= up_lim) & (data.price >= low_lim)]"
   ]
  },
  {
   "cell_type": "code",
   "execution_count": 16,
   "metadata": {},
   "outputs": [
    {
     "data": {
      "text/plain": [
       "<matplotlib.legend.Legend at 0x24525db1f40>"
      ]
     },
     "execution_count": 16,
     "metadata": {},
     "output_type": "execute_result"
    },
    {
     "data": {
      "image/png": "[encoded data removed]",
      "text/plain": [
       "<Figure size 432x288 with 1 Axes>"
      ]
     },
     "metadata": {
      "needs_background": "light"
     },
     "output_type": "display_data"
    }
   ],
   "source": [
    "plt.scatter(x_up, y_up.price, color='black', marker='d', label='Outlier')\n",
    "plt.scatter(x_lo, y_lo.price, color='black', marker='d', label='Outlier')\n",
    "plt.scatter(x_in, y_in.price, color='green', label='Inlier')\n",
    "plt.legend()"
   ]
  },
  {
   "cell_type": "markdown",
   "metadata": {},
   "source": [
    "Although percentile 99.95 sets the upper limit in 2428.53, it can be seen that there are more cases that could be considered as outliers. Considering that there is no continuity in prices above 1500, I would consider an outlier every house with a price over that point. And the same happens for the lower limit, percentile 0.05 establish that limit in 10.00, but we shoud see if there are more houses for sale for that amount or if we should consider increasing that number:"
   ]
  },
  {
   "cell_type": "code",
   "execution_count": 17,
   "metadata": {},
   "outputs": [
    {
     "data": {
      "text/plain": [
       "10526     8.00\n",
       "11569     8.44\n",
       "8594      9.00\n",
       "5410     10.00\n",
       "4113     10.00\n",
       "1471     10.00\n",
       "11091    10.00\n",
       "7482     10.00\n",
       "12579    10.00\n",
       "11945    10.25\n",
       "2437     10.25\n",
       "8653     10.50\n",
       "942      11.00\n",
       "171      11.00\n",
       "8725     11.50\n",
       "8430     11.50\n",
       "9599     11.50\n",
       "9102     11.50\n",
       "365      11.66\n",
       "5154     12.00\n",
       "Name: price, dtype: float64"
      ]
     },
     "execution_count": 17,
     "metadata": {},
     "output_type": "execute_result"
    }
   ],
   "source": [
    "data['price'].sort_values().head(20)"
   ]
  },
  {
   "cell_type": "markdown",
   "metadata": {},
   "source": [
    "Seeing those values I would not consider removing values under 10 either, there are just a few values and they are close to each other."
   ]
  },
  {
   "cell_type": "code",
   "execution_count": 18,
   "metadata": {},
   "outputs": [],
   "source": [
    "#Establishing new upper limit:\n",
    "up_lim = 1500\n",
    "x_up = list(data[data.price > up_lim].index)\n",
    "y_up = data[data.price > up_lim]\n",
    "\n",
    "x_in = list(data[data.price <= up_lim].index) \n",
    "y_in = data[data.price <= up_lim]"
   ]
  },
  {
   "cell_type": "code",
   "execution_count": 19,
   "metadata": {},
   "outputs": [
    {
     "data": {
      "text/plain": [
       "<matplotlib.legend.Legend at 0x24525d7de50>"
      ]
     },
     "execution_count": 19,
     "metadata": {},
     "output_type": "execute_result"
    },
    {
     "data": {
      "image/png": "[encoded data removed]",
      "text/plain": [
       "<Figure size 432x288 with 1 Axes>"
      ]
     },
     "metadata": {
      "needs_background": "light"
     },
     "output_type": "display_data"
    }
   ],
   "source": [
    "plt.scatter(x_up, y_up.price, color='black', marker='d', label='Outlier')\n",
    "plt.scatter(x_in, y_in.price, color='green', label='Inlier')\n",
    "plt.legend()"
   ]
  },
  {
   "cell_type": "markdown",
   "metadata": {},
   "source": [
    "Since we are removing data depending on the `price` value, we have to fill the NaN values of the test set:"
   ]
  },
  {
   "cell_type": "code",
   "execution_count": 20,
   "metadata": {},
   "outputs": [],
   "source": [
    "data.loc[data['source']=='Test', 'price'] = data.loc[data['source']=='Train', 'price'].mean()"
   ]
  },
  {
   "cell_type": "code",
   "execution_count": 21,
   "metadata": {},
   "outputs": [],
   "source": [
    "data = data.loc[data.price <= up_lim]"
   ]
  },
  {
   "cell_type": "markdown",
   "metadata": {},
   "source": [
    "# Exploratory Data Analysis\n",
    "\n",
    "We start by looking some basic statistics of the variables:"
   ]
  },
  {
   "cell_type": "code",
   "execution_count": 22,
   "metadata": {},
   "outputs": [
    {
     "data": {
      "text/html": [
       "<div>\n",
       "<style scoped>\n",
       "    .dataframe tbody tr th:only-of-type {\n",
       "        vertical-align: middle;\n",
       "    }\n",
       "\n",
       "    .dataframe tbody tr th {\n",
       "        vertical-align: top;\n",
       "    }\n",
       "\n",
       "    .dataframe thead th {\n",
       "        text-align: right;\n",
       "    }\n",
       "</style>\n",
       "<table border=\"1\" class=\"dataframe\">\n",
       "  <thead>\n",
       "    <tr style=\"text-align: right;\">\n",
       "      <th></th>\n",
       "      <th>area_type</th>\n",
       "      <th>availability</th>\n",
       "      <th>location</th>\n",
       "      <th>size</th>\n",
       "      <th>society</th>\n",
       "      <th>total_sqft</th>\n",
       "      <th>bath</th>\n",
       "      <th>balcony</th>\n",
       "      <th>price</th>\n",
       "      <th>source</th>\n",
       "    </tr>\n",
       "  </thead>\n",
       "  <tbody>\n",
       "    <tr>\n",
       "      <th>count</th>\n",
       "      <td>14773</td>\n",
       "      <td>14773</td>\n",
       "      <td>14772</td>\n",
       "      <td>14755</td>\n",
       "      <td>8664</td>\n",
       "      <td>1.477300e+04</td>\n",
       "      <td>14693.000000</td>\n",
       "      <td>14104.000000</td>\n",
       "      <td>14773.000000</td>\n",
       "      <td>14773</td>\n",
       "    </tr>\n",
       "    <tr>\n",
       "      <th>unique</th>\n",
       "      <td>4</td>\n",
       "      <td>82</td>\n",
       "      <td>1357</td>\n",
       "      <td>32</td>\n",
       "      <td>2829</td>\n",
       "      <td>NaN</td>\n",
       "      <td>NaN</td>\n",
       "      <td>NaN</td>\n",
       "      <td>NaN</td>\n",
       "      <td>2</td>\n",
       "    </tr>\n",
       "    <tr>\n",
       "      <th>top</th>\n",
       "      <td>Super built-up  Area</td>\n",
       "      <td>Ready To Move</td>\n",
       "      <td>Whitefield</td>\n",
       "      <td>2 BHK</td>\n",
       "      <td>GrrvaGr</td>\n",
       "      <td>NaN</td>\n",
       "      <td>NaN</td>\n",
       "      <td>NaN</td>\n",
       "      <td>NaN</td>\n",
       "      <td>Train</td>\n",
       "    </tr>\n",
       "    <tr>\n",
       "      <th>freq</th>\n",
       "      <td>9726</td>\n",
       "      <td>11727</td>\n",
       "      <td>591</td>\n",
       "      <td>5739</td>\n",
       "      <td>92</td>\n",
       "      <td>NaN</td>\n",
       "      <td>NaN</td>\n",
       "      <td>NaN</td>\n",
       "      <td>NaN</td>\n",
       "      <td>13293</td>\n",
       "    </tr>\n",
       "    <tr>\n",
       "      <th>mean</th>\n",
       "      <td>NaN</td>\n",
       "      <td>NaN</td>\n",
       "      <td>NaN</td>\n",
       "      <td>NaN</td>\n",
       "      <td>NaN</td>\n",
       "      <td>1.870341e+03</td>\n",
       "      <td>2.693119</td>\n",
       "      <td>1.581254</td>\n",
       "      <td>108.820163</td>\n",
       "      <td>NaN</td>\n",
       "    </tr>\n",
       "    <tr>\n",
       "      <th>std</th>\n",
       "      <td>NaN</td>\n",
       "      <td>NaN</td>\n",
       "      <td>NaN</td>\n",
       "      <td>NaN</td>\n",
       "      <td>NaN</td>\n",
       "      <td>1.649328e+04</td>\n",
       "      <td>1.335938</td>\n",
       "      <td>0.818963</td>\n",
       "      <td>109.110384</td>\n",
       "      <td>NaN</td>\n",
       "    </tr>\n",
       "    <tr>\n",
       "      <th>min</th>\n",
       "      <td>NaN</td>\n",
       "      <td>NaN</td>\n",
       "      <td>NaN</td>\n",
       "      <td>NaN</td>\n",
       "      <td>NaN</td>\n",
       "      <td>1.000000e+00</td>\n",
       "      <td>1.000000</td>\n",
       "      <td>0.000000</td>\n",
       "      <td>8.000000</td>\n",
       "      <td>NaN</td>\n",
       "    </tr>\n",
       "    <tr>\n",
       "      <th>25%</th>\n",
       "      <td>NaN</td>\n",
       "      <td>NaN</td>\n",
       "      <td>NaN</td>\n",
       "      <td>NaN</td>\n",
       "      <td>NaN</td>\n",
       "      <td>1.100000e+03</td>\n",
       "      <td>2.000000</td>\n",
       "      <td>1.000000</td>\n",
       "      <td>52.000000</td>\n",
       "      <td>NaN</td>\n",
       "    </tr>\n",
       "    <tr>\n",
       "      <th>50%</th>\n",
       "      <td>NaN</td>\n",
       "      <td>NaN</td>\n",
       "      <td>NaN</td>\n",
       "      <td>NaN</td>\n",
       "      <td>NaN</td>\n",
       "      <td>1.280000e+03</td>\n",
       "      <td>2.000000</td>\n",
       "      <td>2.000000</td>\n",
       "      <td>78.000000</td>\n",
       "      <td>NaN</td>\n",
       "    </tr>\n",
       "    <tr>\n",
       "      <th>75%</th>\n",
       "      <td>NaN</td>\n",
       "      <td>NaN</td>\n",
       "      <td>NaN</td>\n",
       "      <td>NaN</td>\n",
       "      <td>NaN</td>\n",
       "      <td>1.683000e+03</td>\n",
       "      <td>3.000000</td>\n",
       "      <td>2.000000</td>\n",
       "      <td>112.565627</td>\n",
       "      <td>NaN</td>\n",
       "    </tr>\n",
       "    <tr>\n",
       "      <th>max</th>\n",
       "      <td>NaN</td>\n",
       "      <td>NaN</td>\n",
       "      <td>NaN</td>\n",
       "      <td>NaN</td>\n",
       "      <td>NaN</td>\n",
       "      <td>1.306800e+06</td>\n",
       "      <td>40.000000</td>\n",
       "      <td>3.000000</td>\n",
       "      <td>1500.000000</td>\n",
       "      <td>NaN</td>\n",
       "    </tr>\n",
       "  </tbody>\n",
       "</table>\n",
       "</div>"
      ],
      "text/plain": [
       "                   area_type   availability    location   size  society  \\\n",
       "count                  14773          14773       14772  14755     8664   \n",
       "unique                     4             82        1357     32     2829   \n",
       "top     Super built-up  Area  Ready To Move  Whitefield  2 BHK  GrrvaGr   \n",
       "freq                    9726          11727         591   5739       92   \n",
       "mean                     NaN            NaN         NaN    NaN      NaN   \n",
       "std                      NaN            NaN         NaN    NaN      NaN   \n",
       "min                      NaN            NaN         NaN    NaN      NaN   \n",
       "25%                      NaN            NaN         NaN    NaN      NaN   \n",
       "50%                      NaN            NaN         NaN    NaN      NaN   \n",
       "75%                      NaN            NaN         NaN    NaN      NaN   \n",
       "max                      NaN            NaN         NaN    NaN      NaN   \n",
       "\n",
       "          total_sqft          bath       balcony         price source  \n",
       "count   1.477300e+04  14693.000000  14104.000000  14773.000000  14773  \n",
       "unique           NaN           NaN           NaN           NaN      2  \n",
       "top              NaN           NaN           NaN           NaN  Train  \n",
       "freq             NaN           NaN           NaN           NaN  13293  \n",
       "mean    1.870341e+03      2.693119      1.581254    108.820163    NaN  \n",
       "std     1.649328e+04      1.335938      0.818963    109.110384    NaN  \n",
       "min     1.000000e+00      1.000000      0.000000      8.000000    NaN  \n",
       "25%     1.100000e+03      2.000000      1.000000     52.000000    NaN  \n",
       "50%     1.280000e+03      2.000000      2.000000     78.000000    NaN  \n",
       "75%     1.683000e+03      3.000000      2.000000    112.565627    NaN  \n",
       "max     1.306800e+06     40.000000      3.000000   1500.000000    NaN  "
      ]
     },
     "execution_count": 22,
     "metadata": {},
     "output_type": "execute_result"
    }
   ],
   "source": [
    "data.describe(include='all')"
   ]
  },
  {
   "cell_type": "markdown",
   "metadata": {},
   "source": [
    "**QUANTITATIVE VARIABLES:**\n",
    "* **total_sqft**: has a min value of 1 and a maximum of 1.306.800 which is also far from the percentile 75. The minimum and maximum values should be checked and removed\n",
    "* **bath**: has a maximum of 40. This must be checked as well.\n",
    "\n",
    "**QUALITATIVE VARIABLES:**\n",
    "* **availability**: has 82 different values. We should try to group them into different categories to make this feature usable.\n",
    "* **location**: has 1357 categories. We will have to discard this column since it has too many different values to extract information from it.\n",
    "* **society**: has 2829 categories and many missing values. As with the previous one, this column can not be used and it will be removed."
   ]
  },
  {
   "cell_type": "markdown",
   "metadata": {},
   "source": [
    "### total_sqft"
   ]
  },
  {
   "cell_type": "code",
   "execution_count": 23,
   "metadata": {},
   "outputs": [
    {
     "data": {
      "text/html": [
       "<div>\n",
       "<style scoped>\n",
       "    .dataframe tbody tr th:only-of-type {\n",
       "        vertical-align: middle;\n",
       "    }\n",
       "\n",
       "    .dataframe tbody tr th {\n",
       "        vertical-align: top;\n",
       "    }\n",
       "\n",
       "    .dataframe thead th {\n",
       "        text-align: right;\n",
       "    }\n",
       "</style>\n",
       "<table border=\"1\" class=\"dataframe\">\n",
       "  <thead>\n",
       "    <tr style=\"text-align: right;\">\n",
       "      <th></th>\n",
       "      <th>total_sqft</th>\n",
       "      <th>source</th>\n",
       "    </tr>\n",
       "  </thead>\n",
       "  <tbody>\n",
       "    <tr>\n",
       "      <th>4086</th>\n",
       "      <td>1.0000</td>\n",
       "      <td>Train</td>\n",
       "    </tr>\n",
       "    <tr>\n",
       "      <th>4972</th>\n",
       "      <td>5.0000</td>\n",
       "      <td>Train</td>\n",
       "    </tr>\n",
       "    <tr>\n",
       "      <th>349</th>\n",
       "      <td>11.0000</td>\n",
       "      <td>Train</td>\n",
       "    </tr>\n",
       "    <tr>\n",
       "      <th>1020</th>\n",
       "      <td>15.0000</td>\n",
       "      <td>Train</td>\n",
       "    </tr>\n",
       "    <tr>\n",
       "      <th>1122</th>\n",
       "      <td>24.0000</td>\n",
       "      <td>Train</td>\n",
       "    </tr>\n",
       "    <tr>\n",
       "      <th>6552</th>\n",
       "      <td>26.1360</td>\n",
       "      <td>Train</td>\n",
       "    </tr>\n",
       "    <tr>\n",
       "      <th>13414</th>\n",
       "      <td>40.0000</td>\n",
       "      <td>Test</td>\n",
       "    </tr>\n",
       "    <tr>\n",
       "      <th>11320</th>\n",
       "      <td>41.3820</td>\n",
       "      <td>Train</td>\n",
       "    </tr>\n",
       "    <tr>\n",
       "      <th>5970</th>\n",
       "      <td>45.0000</td>\n",
       "      <td>Train</td>\n",
       "    </tr>\n",
       "    <tr>\n",
       "      <th>11558</th>\n",
       "      <td>60.0000</td>\n",
       "      <td>Train</td>\n",
       "    </tr>\n",
       "    <tr>\n",
       "      <th>13216</th>\n",
       "      <td>250.0000</td>\n",
       "      <td>Train</td>\n",
       "    </tr>\n",
       "    <tr>\n",
       "      <th>12252</th>\n",
       "      <td>258.3336</td>\n",
       "      <td>Train</td>\n",
       "    </tr>\n",
       "    <tr>\n",
       "      <th>119</th>\n",
       "      <td>276.0000</td>\n",
       "      <td>Train</td>\n",
       "    </tr>\n",
       "    <tr>\n",
       "      <th>10526</th>\n",
       "      <td>284.0000</td>\n",
       "      <td>Train</td>\n",
       "    </tr>\n",
       "    <tr>\n",
       "      <th>2486</th>\n",
       "      <td>296.0000</td>\n",
       "      <td>Train</td>\n",
       "    </tr>\n",
       "    <tr>\n",
       "      <th>4853</th>\n",
       "      <td>300.0000</td>\n",
       "      <td>Train</td>\n",
       "    </tr>\n",
       "    <tr>\n",
       "      <th>14559</th>\n",
       "      <td>300.0000</td>\n",
       "      <td>Test</td>\n",
       "    </tr>\n",
       "    <tr>\n",
       "      <th>11495</th>\n",
       "      <td>302.0000</td>\n",
       "      <td>Train</td>\n",
       "    </tr>\n",
       "    <tr>\n",
       "      <th>992</th>\n",
       "      <td>315.0000</td>\n",
       "      <td>Train</td>\n",
       "    </tr>\n",
       "    <tr>\n",
       "      <th>13619</th>\n",
       "      <td>336.0000</td>\n",
       "      <td>Test</td>\n",
       "    </tr>\n",
       "  </tbody>\n",
       "</table>\n",
       "</div>"
      ],
      "text/plain": [
       "       total_sqft source\n",
       "4086       1.0000  Train\n",
       "4972       5.0000  Train\n",
       "349       11.0000  Train\n",
       "1020      15.0000  Train\n",
       "1122      24.0000  Train\n",
       "6552      26.1360  Train\n",
       "13414     40.0000   Test\n",
       "11320     41.3820  Train\n",
       "5970      45.0000  Train\n",
       "11558     60.0000  Train\n",
       "13216    250.0000  Train\n",
       "12252    258.3336  Train\n",
       "119      276.0000  Train\n",
       "10526    284.0000  Train\n",
       "2486     296.0000  Train\n",
       "4853     300.0000  Train\n",
       "14559    300.0000   Test\n",
       "11495    302.0000  Train\n",
       "992      315.0000  Train\n",
       "13619    336.0000   Test"
      ]
     },
     "execution_count": 23,
     "metadata": {},
     "output_type": "execute_result"
    }
   ],
   "source": [
    "data[['total_sqft', 'source']].sort_values(by='total_sqft').head(20)"
   ]
  },
  {
   "cell_type": "markdown",
   "metadata": {},
   "source": [
    "Houses with values equal or under 60 sqft should be removed, but since 40 is the minimum value of the test set, we will remove those values keeping the ones that belong to the test set:"
   ]
  },
  {
   "cell_type": "code",
   "execution_count": 24,
   "metadata": {},
   "outputs": [],
   "source": [
    "data = data.loc[(data['total_sqft']>60) | (data['source']=='Test')]"
   ]
  },
  {
   "cell_type": "code",
   "execution_count": 25,
   "metadata": {},
   "outputs": [
    {
     "data": {
      "text/html": [
       "<div>\n",
       "<style scoped>\n",
       "    .dataframe tbody tr th:only-of-type {\n",
       "        vertical-align: middle;\n",
       "    }\n",
       "\n",
       "    .dataframe tbody tr th {\n",
       "        vertical-align: top;\n",
       "    }\n",
       "\n",
       "    .dataframe thead th {\n",
       "        text-align: right;\n",
       "    }\n",
       "</style>\n",
       "<table border=\"1\" class=\"dataframe\">\n",
       "  <thead>\n",
       "    <tr style=\"text-align: right;\">\n",
       "      <th></th>\n",
       "      <th>total_sqft</th>\n",
       "      <th>source</th>\n",
       "    </tr>\n",
       "  </thead>\n",
       "  <tbody>\n",
       "    <tr>\n",
       "      <th>1086</th>\n",
       "      <td>1306800.000</td>\n",
       "      <td>Train</td>\n",
       "    </tr>\n",
       "    <tr>\n",
       "      <th>648</th>\n",
       "      <td>1123031.250</td>\n",
       "      <td>Train</td>\n",
       "    </tr>\n",
       "    <tr>\n",
       "      <th>7001</th>\n",
       "      <td>653400.000</td>\n",
       "      <td>Train</td>\n",
       "    </tr>\n",
       "    <tr>\n",
       "      <th>7607</th>\n",
       "      <td>653400.000</td>\n",
       "      <td>Train</td>\n",
       "    </tr>\n",
       "    <tr>\n",
       "      <th>11615</th>\n",
       "      <td>261360.000</td>\n",
       "      <td>Train</td>\n",
       "    </tr>\n",
       "    <tr>\n",
       "      <th>1019</th>\n",
       "      <td>231303.600</td>\n",
       "      <td>Train</td>\n",
       "    </tr>\n",
       "    <tr>\n",
       "      <th>13645</th>\n",
       "      <td>217800.000</td>\n",
       "      <td>Test</td>\n",
       "    </tr>\n",
       "    <tr>\n",
       "      <th>6333</th>\n",
       "      <td>91040.400</td>\n",
       "      <td>Train</td>\n",
       "    </tr>\n",
       "    <tr>\n",
       "      <th>7334</th>\n",
       "      <td>87120.000</td>\n",
       "      <td>Train</td>\n",
       "    </tr>\n",
       "    <tr>\n",
       "      <th>7726</th>\n",
       "      <td>54885.600</td>\n",
       "      <td>Train</td>\n",
       "    </tr>\n",
       "    <tr>\n",
       "      <th>10488</th>\n",
       "      <td>54450.000</td>\n",
       "      <td>Train</td>\n",
       "    </tr>\n",
       "    <tr>\n",
       "      <th>1894</th>\n",
       "      <td>52272.000</td>\n",
       "      <td>Train</td>\n",
       "    </tr>\n",
       "    <tr>\n",
       "      <th>5393</th>\n",
       "      <td>42000.000</td>\n",
       "      <td>Train</td>\n",
       "    </tr>\n",
       "    <tr>\n",
       "      <th>5469</th>\n",
       "      <td>36000.000</td>\n",
       "      <td>Train</td>\n",
       "    </tr>\n",
       "    <tr>\n",
       "      <th>674</th>\n",
       "      <td>35000.000</td>\n",
       "      <td>Train</td>\n",
       "    </tr>\n",
       "    <tr>\n",
       "      <th>3228</th>\n",
       "      <td>32722.256</td>\n",
       "      <td>Train</td>\n",
       "    </tr>\n",
       "    <tr>\n",
       "      <th>9519</th>\n",
       "      <td>26460.000</td>\n",
       "      <td>Train</td>\n",
       "    </tr>\n",
       "    <tr>\n",
       "      <th>7242</th>\n",
       "      <td>26136.000</td>\n",
       "      <td>Train</td>\n",
       "    </tr>\n",
       "    <tr>\n",
       "      <th>7947</th>\n",
       "      <td>20000.000</td>\n",
       "      <td>Train</td>\n",
       "    </tr>\n",
       "    <tr>\n",
       "      <th>12470</th>\n",
       "      <td>16335.000</td>\n",
       "      <td>Train</td>\n",
       "    </tr>\n",
       "  </tbody>\n",
       "</table>\n",
       "</div>"
      ],
      "text/plain": [
       "        total_sqft source\n",
       "1086   1306800.000  Train\n",
       "648    1123031.250  Train\n",
       "7001    653400.000  Train\n",
       "7607    653400.000  Train\n",
       "11615   261360.000  Train\n",
       "1019    231303.600  Train\n",
       "13645   217800.000   Test\n",
       "6333     91040.400  Train\n",
       "7334     87120.000  Train\n",
       "7726     54885.600  Train\n",
       "10488    54450.000  Train\n",
       "1894     52272.000  Train\n",
       "5393     42000.000  Train\n",
       "5469     36000.000  Train\n",
       "674      35000.000  Train\n",
       "3228     32722.256  Train\n",
       "9519     26460.000  Train\n",
       "7242     26136.000  Train\n",
       "7947     20000.000  Train\n",
       "12470    16335.000  Train"
      ]
     },
     "execution_count": 25,
     "metadata": {},
     "output_type": "execute_result"
    }
   ],
   "source": [
    "data[['total_sqft', 'source']].sort_values(by='total_sqft', ascending=False).head(20)"
   ]
  },
  {
   "cell_type": "markdown",
   "metadata": {},
   "source": [
    "Here there is a similar situation, it could be considered as an outlier every house above 55.000 sqft (around 51.000 if we use the mean and 3 times the standar deviation). "
   ]
  },
  {
   "cell_type": "code",
   "execution_count": 26,
   "metadata": {},
   "outputs": [],
   "source": [
    "data = data.loc[(data['total_sqft']<55000) | (data['source']=='Test')]"
   ]
  },
  {
   "cell_type": "markdown",
   "metadata": {},
   "source": [
    "### Bath"
   ]
  },
  {
   "cell_type": "code",
   "execution_count": 27,
   "metadata": {},
   "outputs": [
    {
     "data": {
      "text/html": [
       "<div>\n",
       "<style scoped>\n",
       "    .dataframe tbody tr th:only-of-type {\n",
       "        vertical-align: middle;\n",
       "    }\n",
       "\n",
       "    .dataframe tbody tr th {\n",
       "        vertical-align: top;\n",
       "    }\n",
       "\n",
       "    .dataframe thead th {\n",
       "        text-align: right;\n",
       "    }\n",
       "</style>\n",
       "<table border=\"1\" class=\"dataframe\">\n",
       "  <thead>\n",
       "    <tr style=\"text-align: right;\">\n",
       "      <th></th>\n",
       "      <th>bath</th>\n",
       "      <th>source</th>\n",
       "    </tr>\n",
       "  </thead>\n",
       "  <tbody>\n",
       "    <tr>\n",
       "      <th>4684</th>\n",
       "      <td>40.0</td>\n",
       "      <td>Train</td>\n",
       "    </tr>\n",
       "    <tr>\n",
       "      <th>1718</th>\n",
       "      <td>27.0</td>\n",
       "      <td>Train</td>\n",
       "    </tr>\n",
       "    <tr>\n",
       "      <th>11559</th>\n",
       "      <td>18.0</td>\n",
       "      <td>Train</td>\n",
       "    </tr>\n",
       "    <tr>\n",
       "      <th>14717</th>\n",
       "      <td>16.0</td>\n",
       "      <td>Test</td>\n",
       "    </tr>\n",
       "    <tr>\n",
       "      <th>3379</th>\n",
       "      <td>16.0</td>\n",
       "      <td>Train</td>\n",
       "    </tr>\n",
       "    <tr>\n",
       "      <th>3609</th>\n",
       "      <td>16.0</td>\n",
       "      <td>Train</td>\n",
       "    </tr>\n",
       "    <tr>\n",
       "      <th>4916</th>\n",
       "      <td>15.0</td>\n",
       "      <td>Train</td>\n",
       "    </tr>\n",
       "    <tr>\n",
       "      <th>1078</th>\n",
       "      <td>14.0</td>\n",
       "      <td>Train</td>\n",
       "    </tr>\n",
       "    <tr>\n",
       "      <th>10695</th>\n",
       "      <td>13.0</td>\n",
       "      <td>Train</td>\n",
       "    </tr>\n",
       "    <tr>\n",
       "      <th>9935</th>\n",
       "      <td>13.0</td>\n",
       "      <td>Train</td>\n",
       "    </tr>\n",
       "    <tr>\n",
       "      <th>7979</th>\n",
       "      <td>12.0</td>\n",
       "      <td>Train</td>\n",
       "    </tr>\n",
       "    <tr>\n",
       "      <th>8636</th>\n",
       "      <td>12.0</td>\n",
       "      <td>Train</td>\n",
       "    </tr>\n",
       "    <tr>\n",
       "      <th>1953</th>\n",
       "      <td>12.0</td>\n",
       "      <td>Train</td>\n",
       "    </tr>\n",
       "    <tr>\n",
       "      <th>8106</th>\n",
       "      <td>12.0</td>\n",
       "      <td>Train</td>\n",
       "    </tr>\n",
       "    <tr>\n",
       "      <th>6937</th>\n",
       "      <td>12.0</td>\n",
       "      <td>Train</td>\n",
       "    </tr>\n",
       "    <tr>\n",
       "      <th>3096</th>\n",
       "      <td>12.0</td>\n",
       "      <td>Train</td>\n",
       "    </tr>\n",
       "    <tr>\n",
       "      <th>1979</th>\n",
       "      <td>12.0</td>\n",
       "      <td>Train</td>\n",
       "    </tr>\n",
       "    <tr>\n",
       "      <th>938</th>\n",
       "      <td>11.0</td>\n",
       "      <td>Train</td>\n",
       "    </tr>\n",
       "    <tr>\n",
       "      <th>11128</th>\n",
       "      <td>11.0</td>\n",
       "      <td>Train</td>\n",
       "    </tr>\n",
       "    <tr>\n",
       "      <th>1768</th>\n",
       "      <td>11.0</td>\n",
       "      <td>Train</td>\n",
       "    </tr>\n",
       "  </tbody>\n",
       "</table>\n",
       "</div>"
      ],
      "text/plain": [
       "       bath source\n",
       "4684   40.0  Train\n",
       "1718   27.0  Train\n",
       "11559  18.0  Train\n",
       "14717  16.0   Test\n",
       "3379   16.0  Train\n",
       "3609   16.0  Train\n",
       "4916   15.0  Train\n",
       "1078   14.0  Train\n",
       "10695  13.0  Train\n",
       "9935   13.0  Train\n",
       "7979   12.0  Train\n",
       "8636   12.0  Train\n",
       "1953   12.0  Train\n",
       "8106   12.0  Train\n",
       "6937   12.0  Train\n",
       "3096   12.0  Train\n",
       "1979   12.0  Train\n",
       "938    11.0  Train\n",
       "11128  11.0  Train\n",
       "1768   11.0  Train"
      ]
     },
     "execution_count": 27,
     "metadata": {},
     "output_type": "execute_result"
    }
   ],
   "source": [
    "data[['bath', 'source']].sort_values(by = 'bath', ascending=False).head(20)"
   ]
  },
  {
   "cell_type": "markdown",
   "metadata": {},
   "source": [
    "The two houses with 40 and 27 baths will be removed as well. From that point on, can not be considered as outliers since the values decrease gradually."
   ]
  },
  {
   "cell_type": "code",
   "execution_count": 28,
   "metadata": {},
   "outputs": [],
   "source": [
    "data = data.loc[data['bath']<=18]"
   ]
  },
  {
   "cell_type": "markdown",
   "metadata": {},
   "source": [
    "## Multivariate Analisys"
   ]
  },
  {
   "cell_type": "markdown",
   "metadata": {},
   "source": [
    "### Correlation between numeric variables\n",
    "\n",
    "The correlation between numeric variables can be observed with a heat map:"
   ]
  },
  {
   "cell_type": "code",
   "execution_count": 29,
   "metadata": {},
   "outputs": [],
   "source": [
    "# Before the correlation is calculated, we shall remove the prices from the test set:\n",
    "data.loc[data['source']=='Test', 'price'] = np.nan\n",
    "# Removing the outlier in order to see the plot correctly\n",
    "data_tmp = data.loc[data['total_sqft']<200000]"
   ]
  },
  {
   "cell_type": "code",
   "execution_count": 30,
   "metadata": {},
   "outputs": [
    {
     "data": {
      "text/plain": [
       "<AxesSubplot:>"
      ]
     },
     "execution_count": 30,
     "metadata": {},
     "output_type": "execute_result"
    },
    {
     "data": {
      "image/png": "[encoded data removed]",
      "text/plain": [
       "<Figure size 576x432 with 2 Axes>"
      ]
     },
     "metadata": {
      "needs_background": "light"
     },
     "output_type": "display_data"
    }
   ],
   "source": [
    "cor_mat = data_tmp.corr()\n",
    "plt.figure(figsize=(8,6))\n",
    "sns.heatmap(cor_mat, cmap='GnBu', annot=True)"
   ]
  },
  {
   "cell_type": "markdown",
   "metadata": {},
   "source": [
    "Against what we could have thought, it seems that area and price are not the most correlated features in this set. There is a stronger correlation between price and the number of baths.\n",
    "\n",
    "Since the heatmap only represents the intensity of linear relations between features, it is better to observe that realation with a pairplot:"
   ]
  },
  {
   "cell_type": "code",
   "execution_count": 31,
   "metadata": {},
   "outputs": [
    {
     "data": {
      "text/plain": [
       "<seaborn.axisgrid.PairGrid at 0x24525eb7f10>"
      ]
     },
     "execution_count": 31,
     "metadata": {},
     "output_type": "execute_result"
    },
    {
     "data": {
      "image/png": "[encoded data removed]",
      "text/plain": [
       "<Figure size 720x720 with 20 Axes>"
      ]
     },
     "metadata": {
      "needs_background": "light"
     },
     "output_type": "display_data"
    }
   ],
   "source": [
    "sns.pairplot(data_tmp, height=2.5)"
   ]
  },
  {
   "cell_type": "markdown",
   "metadata": {},
   "source": [
    "Here it can be seen that there is still an outliers that drags out the relation between `price` and `total_sqft`. If we remove values from the test group:"
   ]
  },
  {
   "cell_type": "code",
   "execution_count": 32,
   "metadata": {},
   "outputs": [],
   "source": [
    "data_tmp = data_tmp.loc[data['total_sqft']<=15000]"
   ]
  },
  {
   "cell_type": "code",
   "execution_count": 33,
   "metadata": {},
   "outputs": [
    {
     "data": {
      "text/plain": [
       "<AxesSubplot:>"
      ]
     },
     "execution_count": 33,
     "metadata": {},
     "output_type": "execute_result"
    },
    {
     "data": {
      "image/png": "[encoded data removed]",
      "text/plain": [
       "<Figure size 576x432 with 2 Axes>"
      ]
     },
     "metadata": {
      "needs_background": "light"
     },
     "output_type": "display_data"
    }
   ],
   "source": [
    "cor_mat = data_tmp.corr()\n",
    "plt.figure(figsize=(8,6))\n",
    "sns.heatmap(cor_mat, cmap='GnBu', annot=True)"
   ]
  },
  {
   "cell_type": "code",
   "execution_count": 34,
   "metadata": {},
   "outputs": [
    {
     "data": {
      "text/plain": [
       "<seaborn.axisgrid.PairGrid at 0x2452877bcd0>"
      ]
     },
     "execution_count": 34,
     "metadata": {},
     "output_type": "execute_result"
    },
    {
     "data": {
      "image/png": "[encoded data removed]",
      "text/plain": [
       "<Figure size 720x720 with 20 Axes>"
      ]
     },
     "metadata": {
      "needs_background": "light"
     },
     "output_type": "display_data"
    }
   ],
   "source": [
    "sns.pairplot(data_tmp, height=2.5)"
   ]
  },
  {
   "cell_type": "markdown",
   "metadata": {},
   "source": [
    "Now it is clear that `total_sqft` and our target variable `price` are strongly correlated, moreover it also improved the intensity between `total_sqft` and `bath`."
   ]
  },
  {
   "cell_type": "markdown",
   "metadata": {},
   "source": [
    "# Null values"
   ]
  },
  {
   "cell_type": "code",
   "execution_count": 35,
   "metadata": {},
   "outputs": [
    {
     "name": "stdout",
     "output_type": "stream",
     "text": [
      "              Null_Values  Percentage\n",
      "area_type               0        0.00\n",
      "availability            0        0.00\n",
      "location                1        0.01\n",
      "size                    0        0.00\n",
      "society              6090       41.50\n",
      "total_sqft              0        0.00\n",
      "bath                    0        0.00\n",
      "balcony               587        4.00\n",
      "price                1473       10.04\n",
      "source                  0        0.00\n"
     ]
    }
   ],
   "source": [
    "null_values = data.isnull().sum()\n",
    "null_count = data.isnull().count() #Counts the number of rows\n",
    "missing_perc = round(null_values/null_count * 100, 2)\n",
    "df_missing = pd.DataFrame({'Null_Values': null_values, 'Percentage': missing_perc})\n",
    "print(df_missing)"
   ]
  },
  {
   "cell_type": "code",
   "execution_count": 36,
   "metadata": {},
   "outputs": [
    {
     "data": {
      "text/plain": [
       "<AxesSubplot:>"
      ]
     },
     "execution_count": 36,
     "metadata": {},
     "output_type": "execute_result"
    },
    {
     "data": {
      "image/png": "[encoded data removed]",
      "text/plain": [
       "<Figure size 1152x432 with 1 Axes>"
      ]
     },
     "metadata": {},
     "output_type": "display_data"
    }
   ],
   "source": [
    "sns.set_style(\"whitegrid\")\n",
    "bars = df_missing.loc[df_missing['Percentage'].astype(float)>0]['Null_Values']\n",
    "#.plot.bar(y='Percentage', figsize=(16,6))\n",
    "bars.sort_values(ascending=False).plot(kind='bar', figsize=(16,6))"
   ]
  },
  {
   "cell_type": "markdown",
   "metadata": {},
   "source": [
    "* **Society** has more than 40% of its values missing and there are 2826 unique values. This makes the imputation task very hard to implement and therefore, it will be removed.\n",
    "* **Location** as we stated before, this column will also be removed."
   ]
  },
  {
   "cell_type": "code",
   "execution_count": 37,
   "metadata": {},
   "outputs": [],
   "source": [
    "data.drop(['society', 'location'], axis=1, inplace=True)"
   ]
  },
  {
   "cell_type": "markdown",
   "metadata": {},
   "source": [
    "## Imputing Missing Values"
   ]
  },
  {
   "cell_type": "markdown",
   "metadata": {},
   "source": [
    "### Balcony\n",
    "\n",
    "We will be using size column to determine the most common number of balconies for every house size to impute the missing values:"
   ]
  },
  {
   "cell_type": "code",
   "execution_count": 38,
   "metadata": {},
   "outputs": [
    {
     "data": {
      "text/html": [
       "<div>\n",
       "<style scoped>\n",
       "    .dataframe tbody tr th:only-of-type {\n",
       "        vertical-align: middle;\n",
       "    }\n",
       "\n",
       "    .dataframe tbody tr th {\n",
       "        vertical-align: top;\n",
       "    }\n",
       "\n",
       "    .dataframe thead th {\n",
       "        text-align: right;\n",
       "    }\n",
       "</style>\n",
       "<table border=\"1\" class=\"dataframe\">\n",
       "  <thead>\n",
       "    <tr style=\"text-align: right;\">\n",
       "      <th></th>\n",
       "      <th>balcony</th>\n",
       "    </tr>\n",
       "    <tr>\n",
       "      <th>size</th>\n",
       "      <th></th>\n",
       "    </tr>\n",
       "  </thead>\n",
       "  <tbody>\n",
       "    <tr>\n",
       "      <th>1 BHK</th>\n",
       "      <td>0</td>\n",
       "    </tr>\n",
       "    <tr>\n",
       "      <th>1 Bedroom</th>\n",
       "      <td>0</td>\n",
       "    </tr>\n",
       "    <tr>\n",
       "      <th>1 RK</th>\n",
       "      <td>0</td>\n",
       "    </tr>\n",
       "    <tr>\n",
       "      <th>10 Bedroom</th>\n",
       "      <td>2</td>\n",
       "    </tr>\n",
       "    <tr>\n",
       "      <th>11 BHK</th>\n",
       "      <td>3</td>\n",
       "    </tr>\n",
       "    <tr>\n",
       "      <th>11 Bedroom</th>\n",
       "      <td>1</td>\n",
       "    </tr>\n",
       "    <tr>\n",
       "      <th>12 Bedroom</th>\n",
       "      <td>2</td>\n",
       "    </tr>\n",
       "    <tr>\n",
       "      <th>13 BHK</th>\n",
       "      <td>0</td>\n",
       "    </tr>\n",
       "    <tr>\n",
       "      <th>14 BHK</th>\n",
       "      <td>0</td>\n",
       "    </tr>\n",
       "    <tr>\n",
       "      <th>2 BHK</th>\n",
       "      <td>1</td>\n",
       "    </tr>\n",
       "    <tr>\n",
       "      <th>2 Bedroom</th>\n",
       "      <td>0</td>\n",
       "    </tr>\n",
       "    <tr>\n",
       "      <th>3 BHK</th>\n",
       "      <td>1</td>\n",
       "    </tr>\n",
       "    <tr>\n",
       "      <th>3 Bedroom</th>\n",
       "      <td>1</td>\n",
       "    </tr>\n",
       "    <tr>\n",
       "      <th>4 BHK</th>\n",
       "      <td>1</td>\n",
       "    </tr>\n",
       "    <tr>\n",
       "      <th>4 Bedroom</th>\n",
       "      <td>1</td>\n",
       "    </tr>\n",
       "    <tr>\n",
       "      <th>5 BHK</th>\n",
       "      <td>1</td>\n",
       "    </tr>\n",
       "    <tr>\n",
       "      <th>5 Bedroom</th>\n",
       "      <td>1</td>\n",
       "    </tr>\n",
       "    <tr>\n",
       "      <th>6 BHK</th>\n",
       "      <td>1</td>\n",
       "    </tr>\n",
       "    <tr>\n",
       "      <th>6 Bedroom</th>\n",
       "      <td>1</td>\n",
       "    </tr>\n",
       "    <tr>\n",
       "      <th>7 BHK</th>\n",
       "      <td>2</td>\n",
       "    </tr>\n",
       "    <tr>\n",
       "      <th>7 Bedroom</th>\n",
       "      <td>1</td>\n",
       "    </tr>\n",
       "    <tr>\n",
       "      <th>8 BHK</th>\n",
       "      <td>2</td>\n",
       "    </tr>\n",
       "    <tr>\n",
       "      <th>8 Bedroom</th>\n",
       "      <td>1</td>\n",
       "    </tr>\n",
       "    <tr>\n",
       "      <th>9 BHK</th>\n",
       "      <td>1</td>\n",
       "    </tr>\n",
       "    <tr>\n",
       "      <th>9 Bedroom</th>\n",
       "      <td>1</td>\n",
       "    </tr>\n",
       "  </tbody>\n",
       "</table>\n",
       "</div>"
      ],
      "text/plain": [
       "            balcony\n",
       "size               \n",
       "1 BHK             0\n",
       "1 Bedroom         0\n",
       "1 RK              0\n",
       "10 Bedroom        2\n",
       "11 BHK            3\n",
       "11 Bedroom        1\n",
       "12 Bedroom        2\n",
       "13 BHK            0\n",
       "14 BHK            0\n",
       "2 BHK             1\n",
       "2 Bedroom         0\n",
       "3 BHK             1\n",
       "3 Bedroom         1\n",
       "4 BHK             1\n",
       "4 Bedroom         1\n",
       "5 BHK             1\n",
       "5 Bedroom         1\n",
       "6 BHK             1\n",
       "6 Bedroom         1\n",
       "7 BHK             2\n",
       "7 Bedroom         1\n",
       "8 BHK             2\n",
       "8 Bedroom         1\n",
       "9 BHK             1\n",
       "9 Bedroom         1"
      ]
     },
     "execution_count": 38,
     "metadata": {},
     "output_type": "execute_result"
    }
   ],
   "source": [
    "#Determine the average of baths per house size:\n",
    "balc_avg = data.pivot_table(values='balcony', index='size')\n",
    "balc_avg = balc_avg.astype(int)\n",
    "balc_avg"
   ]
  },
  {
   "cell_type": "markdown",
   "metadata": {},
   "source": [
    "This set does not have all the house sizes, so it is necessary to append the rest of them to avoid problems:"
   ]
  },
  {
   "cell_type": "code",
   "execution_count": 39,
   "metadata": {},
   "outputs": [
    {
     "data": {
      "text/plain": [
       "['16 Bedroom', '10 BHK', '16 BHK', '18 Bedroom', '19 BHK']"
      ]
     },
     "execution_count": 39,
     "metadata": {},
     "output_type": "execute_result"
    }
   ],
   "source": [
    "balc_avg.reset_index(inplace=True)\n",
    "\n",
    "# Get all the house sizes:\n",
    "all_sizes = set(data['size'].values)\n",
    "\n",
    "# Get the ones that does not appear in the previous set:\n",
    "no_balcony = list(all_sizes - set(balc_avg['size'].values))\n",
    "\n",
    "no_balcony"
   ]
  },
  {
   "cell_type": "code",
   "execution_count": 40,
   "metadata": {},
   "outputs": [
    {
     "data": {
      "text/plain": [
       "array([0, 0, 0, 0, 0])"
      ]
     },
     "execution_count": 40,
     "metadata": {},
     "output_type": "execute_result"
    }
   ],
   "source": [
    "np.zeros(len(no_balcony), dtype=int)"
   ]
  },
  {
   "cell_type": "code",
   "execution_count": 41,
   "metadata": {},
   "outputs": [
    {
     "data": {
      "text/html": [
       "<div>\n",
       "<style scoped>\n",
       "    .dataframe tbody tr th:only-of-type {\n",
       "        vertical-align: middle;\n",
       "    }\n",
       "\n",
       "    .dataframe tbody tr th {\n",
       "        vertical-align: top;\n",
       "    }\n",
       "\n",
       "    .dataframe thead th {\n",
       "        text-align: right;\n",
       "    }\n",
       "</style>\n",
       "<table border=\"1\" class=\"dataframe\">\n",
       "  <thead>\n",
       "    <tr style=\"text-align: right;\">\n",
       "      <th></th>\n",
       "      <th>size</th>\n",
       "      <th>balcony</th>\n",
       "    </tr>\n",
       "  </thead>\n",
       "  <tbody>\n",
       "    <tr>\n",
       "      <th>0</th>\n",
       "      <td>16 Bedroom</td>\n",
       "      <td>0</td>\n",
       "    </tr>\n",
       "    <tr>\n",
       "      <th>1</th>\n",
       "      <td>10 BHK</td>\n",
       "      <td>0</td>\n",
       "    </tr>\n",
       "    <tr>\n",
       "      <th>2</th>\n",
       "      <td>16 BHK</td>\n",
       "      <td>0</td>\n",
       "    </tr>\n",
       "    <tr>\n",
       "      <th>3</th>\n",
       "      <td>18 Bedroom</td>\n",
       "      <td>0</td>\n",
       "    </tr>\n",
       "    <tr>\n",
       "      <th>4</th>\n",
       "      <td>19 BHK</td>\n",
       "      <td>0</td>\n",
       "    </tr>\n",
       "  </tbody>\n",
       "</table>\n",
       "</div>"
      ],
      "text/plain": [
       "         size  balcony\n",
       "0  16 Bedroom        0\n",
       "1      10 BHK        0\n",
       "2      16 BHK        0\n",
       "3  18 Bedroom        0\n",
       "4      19 BHK        0"
      ]
     },
     "execution_count": 41,
     "metadata": {},
     "output_type": "execute_result"
    }
   ],
   "source": [
    "no_balcony_data = pd.DataFrame({'size':no_balcony,\n",
    "                               'balcony': np.zeros(len(no_balcony), dtype=int)})\n",
    "no_balcony_data"
   ]
  },
  {
   "cell_type": "code",
   "execution_count": 42,
   "metadata": {},
   "outputs": [
    {
     "data": {
      "text/html": [
       "<div>\n",
       "<style scoped>\n",
       "    .dataframe tbody tr th:only-of-type {\n",
       "        vertical-align: middle;\n",
       "    }\n",
       "\n",
       "    .dataframe tbody tr th {\n",
       "        vertical-align: top;\n",
       "    }\n",
       "\n",
       "    .dataframe thead th {\n",
       "        text-align: right;\n",
       "    }\n",
       "</style>\n",
       "<table border=\"1\" class=\"dataframe\">\n",
       "  <thead>\n",
       "    <tr style=\"text-align: right;\">\n",
       "      <th></th>\n",
       "      <th>index</th>\n",
       "      <th>size</th>\n",
       "      <th>balcony</th>\n",
       "    </tr>\n",
       "  </thead>\n",
       "  <tbody>\n",
       "    <tr>\n",
       "      <th>0</th>\n",
       "      <td>0.0</td>\n",
       "      <td>1 BHK</td>\n",
       "      <td>0</td>\n",
       "    </tr>\n",
       "    <tr>\n",
       "      <th>1</th>\n",
       "      <td>1.0</td>\n",
       "      <td>1 Bedroom</td>\n",
       "      <td>0</td>\n",
       "    </tr>\n",
       "    <tr>\n",
       "      <th>2</th>\n",
       "      <td>2.0</td>\n",
       "      <td>1 RK</td>\n",
       "      <td>0</td>\n",
       "    </tr>\n",
       "    <tr>\n",
       "      <th>3</th>\n",
       "      <td>3.0</td>\n",
       "      <td>10 Bedroom</td>\n",
       "      <td>2</td>\n",
       "    </tr>\n",
       "    <tr>\n",
       "      <th>4</th>\n",
       "      <td>4.0</td>\n",
       "      <td>11 BHK</td>\n",
       "      <td>3</td>\n",
       "    </tr>\n",
       "    <tr>\n",
       "      <th>5</th>\n",
       "      <td>5.0</td>\n",
       "      <td>11 Bedroom</td>\n",
       "      <td>1</td>\n",
       "    </tr>\n",
       "    <tr>\n",
       "      <th>6</th>\n",
       "      <td>6.0</td>\n",
       "      <td>12 Bedroom</td>\n",
       "      <td>2</td>\n",
       "    </tr>\n",
       "    <tr>\n",
       "      <th>7</th>\n",
       "      <td>7.0</td>\n",
       "      <td>13 BHK</td>\n",
       "      <td>0</td>\n",
       "    </tr>\n",
       "    <tr>\n",
       "      <th>8</th>\n",
       "      <td>8.0</td>\n",
       "      <td>14 BHK</td>\n",
       "      <td>0</td>\n",
       "    </tr>\n",
       "    <tr>\n",
       "      <th>9</th>\n",
       "      <td>9.0</td>\n",
       "      <td>2 BHK</td>\n",
       "      <td>1</td>\n",
       "    </tr>\n",
       "    <tr>\n",
       "      <th>10</th>\n",
       "      <td>10.0</td>\n",
       "      <td>2 Bedroom</td>\n",
       "      <td>0</td>\n",
       "    </tr>\n",
       "    <tr>\n",
       "      <th>11</th>\n",
       "      <td>11.0</td>\n",
       "      <td>3 BHK</td>\n",
       "      <td>1</td>\n",
       "    </tr>\n",
       "    <tr>\n",
       "      <th>12</th>\n",
       "      <td>12.0</td>\n",
       "      <td>3 Bedroom</td>\n",
       "      <td>1</td>\n",
       "    </tr>\n",
       "    <tr>\n",
       "      <th>13</th>\n",
       "      <td>13.0</td>\n",
       "      <td>4 BHK</td>\n",
       "      <td>1</td>\n",
       "    </tr>\n",
       "    <tr>\n",
       "      <th>14</th>\n",
       "      <td>14.0</td>\n",
       "      <td>4 Bedroom</td>\n",
       "      <td>1</td>\n",
       "    </tr>\n",
       "    <tr>\n",
       "      <th>15</th>\n",
       "      <td>15.0</td>\n",
       "      <td>5 BHK</td>\n",
       "      <td>1</td>\n",
       "    </tr>\n",
       "    <tr>\n",
       "      <th>16</th>\n",
       "      <td>16.0</td>\n",
       "      <td>5 Bedroom</td>\n",
       "      <td>1</td>\n",
       "    </tr>\n",
       "    <tr>\n",
       "      <th>17</th>\n",
       "      <td>17.0</td>\n",
       "      <td>6 BHK</td>\n",
       "      <td>1</td>\n",
       "    </tr>\n",
       "    <tr>\n",
       "      <th>18</th>\n",
       "      <td>18.0</td>\n",
       "      <td>6 Bedroom</td>\n",
       "      <td>1</td>\n",
       "    </tr>\n",
       "    <tr>\n",
       "      <th>19</th>\n",
       "      <td>19.0</td>\n",
       "      <td>7 BHK</td>\n",
       "      <td>2</td>\n",
       "    </tr>\n",
       "    <tr>\n",
       "      <th>20</th>\n",
       "      <td>20.0</td>\n",
       "      <td>7 Bedroom</td>\n",
       "      <td>1</td>\n",
       "    </tr>\n",
       "    <tr>\n",
       "      <th>21</th>\n",
       "      <td>21.0</td>\n",
       "      <td>8 BHK</td>\n",
       "      <td>2</td>\n",
       "    </tr>\n",
       "    <tr>\n",
       "      <th>22</th>\n",
       "      <td>22.0</td>\n",
       "      <td>8 Bedroom</td>\n",
       "      <td>1</td>\n",
       "    </tr>\n",
       "    <tr>\n",
       "      <th>23</th>\n",
       "      <td>23.0</td>\n",
       "      <td>9 BHK</td>\n",
       "      <td>1</td>\n",
       "    </tr>\n",
       "    <tr>\n",
       "      <th>24</th>\n",
       "      <td>24.0</td>\n",
       "      <td>9 Bedroom</td>\n",
       "      <td>1</td>\n",
       "    </tr>\n",
       "    <tr>\n",
       "      <th>25</th>\n",
       "      <td>NaN</td>\n",
       "      <td>16 Bedroom</td>\n",
       "      <td>0</td>\n",
       "    </tr>\n",
       "    <tr>\n",
       "      <th>26</th>\n",
       "      <td>NaN</td>\n",
       "      <td>10 BHK</td>\n",
       "      <td>0</td>\n",
       "    </tr>\n",
       "    <tr>\n",
       "      <th>27</th>\n",
       "      <td>NaN</td>\n",
       "      <td>16 BHK</td>\n",
       "      <td>0</td>\n",
       "    </tr>\n",
       "    <tr>\n",
       "      <th>28</th>\n",
       "      <td>NaN</td>\n",
       "      <td>18 Bedroom</td>\n",
       "      <td>0</td>\n",
       "    </tr>\n",
       "    <tr>\n",
       "      <th>29</th>\n",
       "      <td>NaN</td>\n",
       "      <td>19 BHK</td>\n",
       "      <td>0</td>\n",
       "    </tr>\n",
       "  </tbody>\n",
       "</table>\n",
       "</div>"
      ],
      "text/plain": [
       "    index        size  balcony\n",
       "0     0.0       1 BHK        0\n",
       "1     1.0   1 Bedroom        0\n",
       "2     2.0        1 RK        0\n",
       "3     3.0  10 Bedroom        2\n",
       "4     4.0      11 BHK        3\n",
       "5     5.0  11 Bedroom        1\n",
       "6     6.0  12 Bedroom        2\n",
       "7     7.0      13 BHK        0\n",
       "8     8.0      14 BHK        0\n",
       "9     9.0       2 BHK        1\n",
       "10   10.0   2 Bedroom        0\n",
       "11   11.0       3 BHK        1\n",
       "12   12.0   3 Bedroom        1\n",
       "13   13.0       4 BHK        1\n",
       "14   14.0   4 Bedroom        1\n",
       "15   15.0       5 BHK        1\n",
       "16   16.0   5 Bedroom        1\n",
       "17   17.0       6 BHK        1\n",
       "18   18.0   6 Bedroom        1\n",
       "19   19.0       7 BHK        2\n",
       "20   20.0   7 Bedroom        1\n",
       "21   21.0       8 BHK        2\n",
       "22   22.0   8 Bedroom        1\n",
       "23   23.0       9 BHK        1\n",
       "24   24.0   9 Bedroom        1\n",
       "25    NaN  16 Bedroom        0\n",
       "26    NaN      10 BHK        0\n",
       "27    NaN      16 BHK        0\n",
       "28    NaN  18 Bedroom        0\n",
       "29    NaN      19 BHK        0"
      ]
     },
     "execution_count": 42,
     "metadata": {},
     "output_type": "execute_result"
    }
   ],
   "source": [
    "balc_avg.reset_index(inplace=True)\n",
    "\n",
    "# Get all the house sizes:\n",
    "all_sizes = set(data['size'].values)\n",
    "\n",
    "# Get the ones that does not appear in the previous set:\n",
    "no_balcony = list(all_sizes - set(balc_avg['size'].values))\n",
    "\n",
    "#Create a dataframe with the sizes that don´t appear:\n",
    "no_balcony_data = pd.DataFrame({'size':no_balcony,\n",
    "                               'balcony': np.zeros(len(no_balcony), dtype=int)})\n",
    "\n",
    "# Append those sizes with a value of 0:\n",
    "balc_avg = pd.concat([balc_avg, no_balcony_data], ignore_index=True)\n",
    "balc_avg"
   ]
  },
  {
   "cell_type": "code",
   "execution_count": 43,
   "metadata": {},
   "outputs": [],
   "source": [
    "balc_avg.set_index('size', inplace=True)"
   ]
  },
  {
   "cell_type": "code",
   "execution_count": 44,
   "metadata": {},
   "outputs": [
    {
     "data": {
      "text/plain": [
       "0        False\n",
       "1        False\n",
       "2        False\n",
       "3        False\n",
       "4        False\n",
       "         ...  \n",
       "14795    False\n",
       "14796    False\n",
       "14797    False\n",
       "14798    False\n",
       "14799    False\n",
       "Name: balcony, Length: 14674, dtype: bool"
      ]
     },
     "execution_count": 44,
     "metadata": {},
     "output_type": "execute_result"
    }
   ],
   "source": [
    "#Get a boolean variable specifying missing Item_Weight values\n",
    "miss_bool = data['balcony'].isnull() \n",
    "miss_bool"
   ]
  },
  {
   "cell_type": "code",
   "execution_count": 45,
   "metadata": {
    "scrolled": true
   },
   "outputs": [
    {
     "name": "stdout",
     "output_type": "stream",
     "text": [
      "Orignal #missing: 587\n",
      "Final #missing: 0\n"
     ]
    }
   ],
   "source": [
    "#Impute data and check #missing values before and after imputation to confirm\n",
    "print ('Orignal #missing: %d'% sum(miss_bool))\n",
    "data.loc[miss_bool, 'balcony'] = data.loc[miss_bool, 'size'].apply(lambda x: balc_avg.loc[x])\n",
    "print ('Final #missing: %d'% sum(data['balcony'].isnull()))"
   ]
  },
  {
   "cell_type": "markdown",
   "metadata": {},
   "source": [
    "Now there should be no missing values (apart from the prices of the test set):"
   ]
  },
  {
   "cell_type": "code",
   "execution_count": 46,
   "metadata": {},
   "outputs": [
    {
     "data": {
      "text/plain": [
       "area_type          0\n",
       "availability       0\n",
       "size               0\n",
       "total_sqft         0\n",
       "bath               0\n",
       "balcony            0\n",
       "price           1473\n",
       "source             0\n",
       "dtype: int64"
      ]
     },
     "execution_count": 46,
     "metadata": {},
     "output_type": "execute_result"
    }
   ],
   "source": [
    "data.isnull().sum()"
   ]
  },
  {
   "cell_type": "markdown",
   "metadata": {},
   "source": [
    "# Qualitative variables"
   ]
  },
  {
   "cell_type": "markdown",
   "metadata": {},
   "source": [
    "## Availability\n",
    "\n",
    "We will study if the availability column is related with the price or if it can be dropped:"
   ]
  },
  {
   "cell_type": "code",
   "execution_count": 47,
   "metadata": {},
   "outputs": [
    {
     "data": {
      "text/html": [
       "<div>\n",
       "<style scoped>\n",
       "    .dataframe tbody tr th:only-of-type {\n",
       "        vertical-align: middle;\n",
       "    }\n",
       "\n",
       "    .dataframe tbody tr th {\n",
       "        vertical-align: top;\n",
       "    }\n",
       "\n",
       "    .dataframe thead th {\n",
       "        text-align: right;\n",
       "    }\n",
       "</style>\n",
       "<table border=\"1\" class=\"dataframe\">\n",
       "  <thead>\n",
       "    <tr style=\"text-align: right;\">\n",
       "      <th></th>\n",
       "      <th>price</th>\n",
       "    </tr>\n",
       "    <tr>\n",
       "      <th>availability</th>\n",
       "      <th></th>\n",
       "    </tr>\n",
       "  </thead>\n",
       "  <tbody>\n",
       "    <tr>\n",
       "      <th>14-Jul</th>\n",
       "      <td>43.710000</td>\n",
       "    </tr>\n",
       "    <tr>\n",
       "      <th>14-Nov</th>\n",
       "      <td>43.710000</td>\n",
       "    </tr>\n",
       "    <tr>\n",
       "      <th>15-Aug</th>\n",
       "      <td>62.000000</td>\n",
       "    </tr>\n",
       "    <tr>\n",
       "      <th>15-Dec</th>\n",
       "      <td>130.000000</td>\n",
       "    </tr>\n",
       "    <tr>\n",
       "      <th>15-Jun</th>\n",
       "      <td>97.000000</td>\n",
       "    </tr>\n",
       "    <tr>\n",
       "      <th>15-Nov</th>\n",
       "      <td>125.000000</td>\n",
       "    </tr>\n",
       "    <tr>\n",
       "      <th>15-Oct</th>\n",
       "      <td>280.500000</td>\n",
       "    </tr>\n",
       "    <tr>\n",
       "      <th>16-Dec</th>\n",
       "      <td>130.000000</td>\n",
       "    </tr>\n",
       "    <tr>\n",
       "      <th>16-Jan</th>\n",
       "      <td>110.000000</td>\n",
       "    </tr>\n",
       "    <tr>\n",
       "      <th>16-Jul</th>\n",
       "      <td>129.000000</td>\n",
       "    </tr>\n",
       "    <tr>\n",
       "      <th>16-Mar</th>\n",
       "      <td>150.333333</td>\n",
       "    </tr>\n",
       "    <tr>\n",
       "      <th>16-Nov</th>\n",
       "      <td>39.000000</td>\n",
       "    </tr>\n",
       "    <tr>\n",
       "      <th>16-Oct</th>\n",
       "      <td>65.000000</td>\n",
       "    </tr>\n",
       "    <tr>\n",
       "      <th>16-Sep</th>\n",
       "      <td>153.800000</td>\n",
       "    </tr>\n",
       "    <tr>\n",
       "      <th>17-Apr</th>\n",
       "      <td>80.975714</td>\n",
       "    </tr>\n",
       "    <tr>\n",
       "      <th>17-Aug</th>\n",
       "      <td>98.994444</td>\n",
       "    </tr>\n",
       "    <tr>\n",
       "      <th>17-Dec</th>\n",
       "      <td>123.115517</td>\n",
       "    </tr>\n",
       "    <tr>\n",
       "      <th>17-Feb</th>\n",
       "      <td>152.000000</td>\n",
       "    </tr>\n",
       "    <tr>\n",
       "      <th>17-Jan</th>\n",
       "      <td>139.000000</td>\n",
       "    </tr>\n",
       "    <tr>\n",
       "      <th>17-Jul</th>\n",
       "      <td>124.023333</td>\n",
       "    </tr>\n",
       "  </tbody>\n",
       "</table>\n",
       "</div>"
      ],
      "text/plain": [
       "                   price\n",
       "availability            \n",
       "14-Jul         43.710000\n",
       "14-Nov         43.710000\n",
       "15-Aug         62.000000\n",
       "15-Dec        130.000000\n",
       "15-Jun         97.000000\n",
       "15-Nov        125.000000\n",
       "15-Oct        280.500000\n",
       "16-Dec        130.000000\n",
       "16-Jan        110.000000\n",
       "16-Jul        129.000000\n",
       "16-Mar        150.333333\n",
       "16-Nov         39.000000\n",
       "16-Oct         65.000000\n",
       "16-Sep        153.800000\n",
       "17-Apr         80.975714\n",
       "17-Aug         98.994444\n",
       "17-Dec        123.115517\n",
       "17-Feb        152.000000\n",
       "17-Jan        139.000000\n",
       "17-Jul        124.023333"
      ]
     },
     "execution_count": 47,
     "metadata": {},
     "output_type": "execute_result"
    }
   ],
   "source": [
    "data.pivot_table(index='availability', values='price').head(20)"
   ]
  },
  {
   "cell_type": "markdown",
   "metadata": {},
   "source": [
    "We can group the availability column by month to see if there are months with a higher price:"
   ]
  },
  {
   "cell_type": "code",
   "execution_count": 48,
   "metadata": {},
   "outputs": [
    {
     "data": {
      "text/plain": [
       "Ready To Move    11696\n",
       "Dec                809\n",
       "May                365\n",
       "Apr                322\n",
       "Aug                277\n",
       "Mar                261\n",
       "Jul                227\n",
       "Jun                213\n",
       "Jan                138\n",
       "Oct                 99\n",
       "Nov                 92\n",
       "Sep                 91\n",
       "Feb                 84\n",
       "Name: availability, dtype: int64"
      ]
     },
     "execution_count": 48,
     "metadata": {},
     "output_type": "execute_result"
    }
   ],
   "source": [
    "#We have to reset the index since we have removed some rows:\n",
    "data.reset_index(inplace = True)\n",
    "data.drop(['index'], axis=1, inplace=True)\n",
    "for i in range(len(data)):\n",
    "    if(len(data.loc[i, 'availability'])==6):\n",
    "        data.loc[i, 'availability'] = data.loc[i, 'availability'][3:]\n",
    "        \n",
    "data['availability'].value_counts()"
   ]
  },
  {
   "cell_type": "code",
   "execution_count": 49,
   "metadata": {},
   "outputs": [
    {
     "data": {
      "text/html": [
       "<div>\n",
       "<style scoped>\n",
       "    .dataframe tbody tr th:only-of-type {\n",
       "        vertical-align: middle;\n",
       "    }\n",
       "\n",
       "    .dataframe tbody tr th {\n",
       "        vertical-align: top;\n",
       "    }\n",
       "\n",
       "    .dataframe thead th {\n",
       "        text-align: right;\n",
       "    }\n",
       "</style>\n",
       "<table border=\"1\" class=\"dataframe\">\n",
       "  <thead>\n",
       "    <tr style=\"text-align: right;\">\n",
       "      <th></th>\n",
       "      <th>amax</th>\n",
       "      <th>amin</th>\n",
       "      <th>mean</th>\n",
       "    </tr>\n",
       "    <tr>\n",
       "      <th>availability</th>\n",
       "      <th></th>\n",
       "      <th></th>\n",
       "      <th></th>\n",
       "    </tr>\n",
       "  </thead>\n",
       "  <tbody>\n",
       "    <tr>\n",
       "      <th>Apr</th>\n",
       "      <td>1150.0</td>\n",
       "      <td>15.00</td>\n",
       "      <td>93.506966</td>\n",
       "    </tr>\n",
       "    <tr>\n",
       "      <th>Aug</th>\n",
       "      <td>511.0</td>\n",
       "      <td>13.86</td>\n",
       "      <td>70.045221</td>\n",
       "    </tr>\n",
       "    <tr>\n",
       "      <th>Dec</th>\n",
       "      <td>995.0</td>\n",
       "      <td>13.26</td>\n",
       "      <td>93.663958</td>\n",
       "    </tr>\n",
       "    <tr>\n",
       "      <th>Feb</th>\n",
       "      <td>763.0</td>\n",
       "      <td>25.29</td>\n",
       "      <td>122.741081</td>\n",
       "    </tr>\n",
       "    <tr>\n",
       "      <th>Jan</th>\n",
       "      <td>1400.0</td>\n",
       "      <td>10.00</td>\n",
       "      <td>113.847769</td>\n",
       "    </tr>\n",
       "    <tr>\n",
       "      <th>Jul</th>\n",
       "      <td>1500.0</td>\n",
       "      <td>16.45</td>\n",
       "      <td>97.092059</td>\n",
       "    </tr>\n",
       "    <tr>\n",
       "      <th>Jun</th>\n",
       "      <td>488.0</td>\n",
       "      <td>14.00</td>\n",
       "      <td>89.213954</td>\n",
       "    </tr>\n",
       "    <tr>\n",
       "      <th>Mar</th>\n",
       "      <td>972.0</td>\n",
       "      <td>10.00</td>\n",
       "      <td>119.029641</td>\n",
       "    </tr>\n",
       "    <tr>\n",
       "      <th>May</th>\n",
       "      <td>815.0</td>\n",
       "      <td>19.80</td>\n",
       "      <td>95.702538</td>\n",
       "    </tr>\n",
       "    <tr>\n",
       "      <th>Nov</th>\n",
       "      <td>395.0</td>\n",
       "      <td>18.00</td>\n",
       "      <td>71.347911</td>\n",
       "    </tr>\n",
       "    <tr>\n",
       "      <th>Oct</th>\n",
       "      <td>450.0</td>\n",
       "      <td>18.00</td>\n",
       "      <td>81.440899</td>\n",
       "    </tr>\n",
       "    <tr>\n",
       "      <th>Ready To Move</th>\n",
       "      <td>1500.0</td>\n",
       "      <td>8.00</td>\n",
       "      <td>111.675833</td>\n",
       "    </tr>\n",
       "    <tr>\n",
       "      <th>Sep</th>\n",
       "      <td>325.0</td>\n",
       "      <td>14.04</td>\n",
       "      <td>72.808512</td>\n",
       "    </tr>\n",
       "  </tbody>\n",
       "</table>\n",
       "</div>"
      ],
      "text/plain": [
       "                 amax   amin        mean\n",
       "availability                            \n",
       "Apr            1150.0  15.00   93.506966\n",
       "Aug             511.0  13.86   70.045221\n",
       "Dec             995.0  13.26   93.663958\n",
       "Feb             763.0  25.29  122.741081\n",
       "Jan            1400.0  10.00  113.847769\n",
       "Jul            1500.0  16.45   97.092059\n",
       "Jun             488.0  14.00   89.213954\n",
       "Mar             972.0  10.00  119.029641\n",
       "May             815.0  19.80   95.702538\n",
       "Nov             395.0  18.00   71.347911\n",
       "Oct             450.0  18.00   81.440899\n",
       "Ready To Move  1500.0   8.00  111.675833\n",
       "Sep             325.0  14.04   72.808512"
      ]
     },
     "execution_count": 49,
     "metadata": {},
     "output_type": "execute_result"
    }
   ],
   "source": [
    "data.pivot_table(index='availability', values='price', \n",
    "                  aggfunc={'price':[np.mean, np.max,np.min]})"
   ]
  },
  {
   "cell_type": "markdown",
   "metadata": {},
   "source": [
    "It can be seen that some months have maximum prices higher than others (`Jan`, `Jul` and the category `Ready To Move`) and they also have a higher mean. But this could not be due just to the availability feature, if we also calculate the max, min and mean of the total sqft that we already know that is correlated with the price:"
   ]
  },
  {
   "cell_type": "code",
   "execution_count": 50,
   "metadata": {},
   "outputs": [
    {
     "data": {
      "text/html": [
       "<div>\n",
       "<style scoped>\n",
       "    .dataframe tbody tr th:only-of-type {\n",
       "        vertical-align: middle;\n",
       "    }\n",
       "\n",
       "    .dataframe tbody tr th {\n",
       "        vertical-align: top;\n",
       "    }\n",
       "\n",
       "    .dataframe thead tr th {\n",
       "        text-align: left;\n",
       "    }\n",
       "\n",
       "    .dataframe thead tr:last-of-type th {\n",
       "        text-align: right;\n",
       "    }\n",
       "</style>\n",
       "<table border=\"1\" class=\"dataframe\">\n",
       "  <thead>\n",
       "    <tr>\n",
       "      <th></th>\n",
       "      <th colspan=\"3\" halign=\"left\">price</th>\n",
       "      <th colspan=\"3\" halign=\"left\">total_sqft</th>\n",
       "    </tr>\n",
       "    <tr>\n",
       "      <th></th>\n",
       "      <th>amax</th>\n",
       "      <th>amin</th>\n",
       "      <th>mean</th>\n",
       "      <th>amax</th>\n",
       "      <th>amin</th>\n",
       "      <th>mean</th>\n",
       "    </tr>\n",
       "    <tr>\n",
       "      <th>availability</th>\n",
       "      <th></th>\n",
       "      <th></th>\n",
       "      <th></th>\n",
       "      <th></th>\n",
       "      <th></th>\n",
       "      <th></th>\n",
       "    </tr>\n",
       "  </thead>\n",
       "  <tbody>\n",
       "    <tr>\n",
       "      <th>Apr</th>\n",
       "      <td>1150.0</td>\n",
       "      <td>15.00</td>\n",
       "      <td>93.506966</td>\n",
       "      <td>10961.0</td>\n",
       "      <td>600.0</td>\n",
       "      <td>1432.555559</td>\n",
       "    </tr>\n",
       "    <tr>\n",
       "      <th>Aug</th>\n",
       "      <td>511.0</td>\n",
       "      <td>13.86</td>\n",
       "      <td>70.045221</td>\n",
       "      <td>3621.0</td>\n",
       "      <td>416.0</td>\n",
       "      <td>1292.092529</td>\n",
       "    </tr>\n",
       "    <tr>\n",
       "      <th>Dec</th>\n",
       "      <td>995.0</td>\n",
       "      <td>13.26</td>\n",
       "      <td>93.663958</td>\n",
       "      <td>5230.0</td>\n",
       "      <td>296.0</td>\n",
       "      <td>1469.808050</td>\n",
       "    </tr>\n",
       "    <tr>\n",
       "      <th>Feb</th>\n",
       "      <td>763.0</td>\n",
       "      <td>25.29</td>\n",
       "      <td>122.741081</td>\n",
       "      <td>4600.0</td>\n",
       "      <td>560.0</td>\n",
       "      <td>1606.851351</td>\n",
       "    </tr>\n",
       "    <tr>\n",
       "      <th>Jan</th>\n",
       "      <td>1400.0</td>\n",
       "      <td>10.00</td>\n",
       "      <td>113.847769</td>\n",
       "      <td>6500.0</td>\n",
       "      <td>509.0</td>\n",
       "      <td>1433.829680</td>\n",
       "    </tr>\n",
       "    <tr>\n",
       "      <th>Jul</th>\n",
       "      <td>1500.0</td>\n",
       "      <td>16.45</td>\n",
       "      <td>97.092059</td>\n",
       "      <td>7514.0</td>\n",
       "      <td>416.0</td>\n",
       "      <td>1478.739363</td>\n",
       "    </tr>\n",
       "    <tr>\n",
       "      <th>Jun</th>\n",
       "      <td>488.0</td>\n",
       "      <td>14.00</td>\n",
       "      <td>89.213954</td>\n",
       "      <td>5020.0</td>\n",
       "      <td>492.0</td>\n",
       "      <td>1457.557143</td>\n",
       "    </tr>\n",
       "    <tr>\n",
       "      <th>Mar</th>\n",
       "      <td>972.0</td>\n",
       "      <td>10.00</td>\n",
       "      <td>119.029641</td>\n",
       "      <td>7500.0</td>\n",
       "      <td>340.0</td>\n",
       "      <td>1593.392721</td>\n",
       "    </tr>\n",
       "    <tr>\n",
       "      <th>May</th>\n",
       "      <td>815.0</td>\n",
       "      <td>19.80</td>\n",
       "      <td>95.702538</td>\n",
       "      <td>5800.0</td>\n",
       "      <td>412.5</td>\n",
       "      <td>1495.921854</td>\n",
       "    </tr>\n",
       "    <tr>\n",
       "      <th>Nov</th>\n",
       "      <td>395.0</td>\n",
       "      <td>18.00</td>\n",
       "      <td>71.347911</td>\n",
       "      <td>4500.0</td>\n",
       "      <td>416.0</td>\n",
       "      <td>1327.417722</td>\n",
       "    </tr>\n",
       "    <tr>\n",
       "      <th>Oct</th>\n",
       "      <td>450.0</td>\n",
       "      <td>18.00</td>\n",
       "      <td>81.440899</td>\n",
       "      <td>4260.0</td>\n",
       "      <td>525.0</td>\n",
       "      <td>1485.092697</td>\n",
       "    </tr>\n",
       "    <tr>\n",
       "      <th>Ready To Move</th>\n",
       "      <td>1500.0</td>\n",
       "      <td>8.00</td>\n",
       "      <td>111.675833</td>\n",
       "      <td>54885.6</td>\n",
       "      <td>250.0</td>\n",
       "      <td>1580.257316</td>\n",
       "    </tr>\n",
       "    <tr>\n",
       "      <th>Sep</th>\n",
       "      <td>325.0</td>\n",
       "      <td>14.04</td>\n",
       "      <td>72.808512</td>\n",
       "      <td>3200.0</td>\n",
       "      <td>520.0</td>\n",
       "      <td>1344.306548</td>\n",
       "    </tr>\n",
       "  </tbody>\n",
       "</table>\n",
       "</div>"
      ],
      "text/plain": [
       "                price                    total_sqft                    \n",
       "                 amax   amin        mean       amax   amin         mean\n",
       "availability                                                           \n",
       "Apr            1150.0  15.00   93.506966    10961.0  600.0  1432.555559\n",
       "Aug             511.0  13.86   70.045221     3621.0  416.0  1292.092529\n",
       "Dec             995.0  13.26   93.663958     5230.0  296.0  1469.808050\n",
       "Feb             763.0  25.29  122.741081     4600.0  560.0  1606.851351\n",
       "Jan            1400.0  10.00  113.847769     6500.0  509.0  1433.829680\n",
       "Jul            1500.0  16.45   97.092059     7514.0  416.0  1478.739363\n",
       "Jun             488.0  14.00   89.213954     5020.0  492.0  1457.557143\n",
       "Mar             972.0  10.00  119.029641     7500.0  340.0  1593.392721\n",
       "May             815.0  19.80   95.702538     5800.0  412.5  1495.921854\n",
       "Nov             395.0  18.00   71.347911     4500.0  416.0  1327.417722\n",
       "Oct             450.0  18.00   81.440899     4260.0  525.0  1485.092697\n",
       "Ready To Move  1500.0   8.00  111.675833    54885.6  250.0  1580.257316\n",
       "Sep             325.0  14.04   72.808512     3200.0  520.0  1344.306548"
      ]
     },
     "execution_count": 50,
     "metadata": {},
     "output_type": "execute_result"
    }
   ],
   "source": [
    "#Keep just the trainning set since we need just the rows with a valid price\n",
    "data2 = data.loc[data['source']=='Train'].reset_index()\n",
    "data2.pivot_table(index='availability', values=['total_sqft','price'],\n",
    "                  aggfunc={'total_sqft':[np.mean, np.max,np.min],\n",
    "                           'price':[np.mean, np.max,np.min]})"
   ]
  },
  {
   "cell_type": "markdown",
   "metadata": {},
   "source": [
    "We can see that months with the lowest maximums of sale price (`Nov`, `Oct` and `Sep`) have also the lowest maximums of total_sqft, and this could explain those prices better than the month of sale. According to this, we are removing the availability column:"
   ]
  },
  {
   "cell_type": "code",
   "execution_count": 51,
   "metadata": {},
   "outputs": [],
   "source": [
    "data.drop(['availability'], axis=1, inplace=True)"
   ]
  },
  {
   "cell_type": "markdown",
   "metadata": {},
   "source": [
    "## Size\n",
    "\n",
    "We can check if it is a good idea to combine different house sizes, there are different categories for 1 bedroom size (`1 BHK`, `1 Bedroom`, `1 RK`), for 2 bedroom size (`2 BHK`, `2 Bedroom`) and so on. A quick way to check that could be to analyze the mean prices by house size. If they have similar prices, then keeping them separate won’t help much."
   ]
  },
  {
   "cell_type": "code",
   "execution_count": 52,
   "metadata": {},
   "outputs": [
    {
     "data": {
      "text/html": [
       "<div>\n",
       "<style scoped>\n",
       "    .dataframe tbody tr th:only-of-type {\n",
       "        vertical-align: middle;\n",
       "    }\n",
       "\n",
       "    .dataframe tbody tr th {\n",
       "        vertical-align: top;\n",
       "    }\n",
       "\n",
       "    .dataframe thead th {\n",
       "        text-align: right;\n",
       "    }\n",
       "</style>\n",
       "<table border=\"1\" class=\"dataframe\">\n",
       "  <thead>\n",
       "    <tr style=\"text-align: right;\">\n",
       "      <th></th>\n",
       "      <th>price</th>\n",
       "    </tr>\n",
       "    <tr>\n",
       "      <th>size</th>\n",
       "      <th></th>\n",
       "    </tr>\n",
       "  </thead>\n",
       "  <tbody>\n",
       "    <tr>\n",
       "      <th>1 BHK</th>\n",
       "      <td>39.623547</td>\n",
       "    </tr>\n",
       "    <tr>\n",
       "      <th>1 Bedroom</th>\n",
       "      <td>71.498713</td>\n",
       "    </tr>\n",
       "    <tr>\n",
       "      <th>1 RK</th>\n",
       "      <td>28.122308</td>\n",
       "    </tr>\n",
       "    <tr>\n",
       "      <th>10 BHK</th>\n",
       "      <td>342.500000</td>\n",
       "    </tr>\n",
       "    <tr>\n",
       "      <th>10 Bedroom</th>\n",
       "      <td>285.000000</td>\n",
       "    </tr>\n",
       "    <tr>\n",
       "      <th>11 BHK</th>\n",
       "      <td>255.000000</td>\n",
       "    </tr>\n",
       "    <tr>\n",
       "      <th>11 Bedroom</th>\n",
       "      <td>160.000000</td>\n",
       "    </tr>\n",
       "    <tr>\n",
       "      <th>12 Bedroom</th>\n",
       "      <td>300.000000</td>\n",
       "    </tr>\n",
       "    <tr>\n",
       "      <th>13 BHK</th>\n",
       "      <td>275.000000</td>\n",
       "    </tr>\n",
       "    <tr>\n",
       "      <th>14 BHK</th>\n",
       "      <td>125.000000</td>\n",
       "    </tr>\n",
       "    <tr>\n",
       "      <th>16 BHK</th>\n",
       "      <td>550.000000</td>\n",
       "    </tr>\n",
       "    <tr>\n",
       "      <th>18 Bedroom</th>\n",
       "      <td>200.000000</td>\n",
       "    </tr>\n",
       "    <tr>\n",
       "      <th>19 BHK</th>\n",
       "      <td>490.000000</td>\n",
       "    </tr>\n",
       "    <tr>\n",
       "      <th>2 BHK</th>\n",
       "      <td>57.431773</td>\n",
       "    </tr>\n",
       "    <tr>\n",
       "      <th>2 Bedroom</th>\n",
       "      <td>93.433884</td>\n",
       "    </tr>\n",
       "    <tr>\n",
       "      <th>3 BHK</th>\n",
       "      <td>104.957111</td>\n",
       "    </tr>\n",
       "    <tr>\n",
       "      <th>3 Bedroom</th>\n",
       "      <td>155.018044</td>\n",
       "    </tr>\n",
       "    <tr>\n",
       "      <th>4 BHK</th>\n",
       "      <td>264.649135</td>\n",
       "    </tr>\n",
       "    <tr>\n",
       "      <th>4 Bedroom</th>\n",
       "      <td>244.882887</td>\n",
       "    </tr>\n",
       "    <tr>\n",
       "      <th>5 BHK</th>\n",
       "      <td>334.962963</td>\n",
       "    </tr>\n",
       "    <tr>\n",
       "      <th>5 Bedroom</th>\n",
       "      <td>232.237113</td>\n",
       "    </tr>\n",
       "    <tr>\n",
       "      <th>6 BHK</th>\n",
       "      <td>207.833333</td>\n",
       "    </tr>\n",
       "    <tr>\n",
       "      <th>6 Bedroom</th>\n",
       "      <td>204.386243</td>\n",
       "    </tr>\n",
       "    <tr>\n",
       "      <th>7 BHK</th>\n",
       "      <td>150.214286</td>\n",
       "    </tr>\n",
       "    <tr>\n",
       "      <th>7 Bedroom</th>\n",
       "      <td>214.686747</td>\n",
       "    </tr>\n",
       "    <tr>\n",
       "      <th>8 BHK</th>\n",
       "      <td>172.000000</td>\n",
       "    </tr>\n",
       "    <tr>\n",
       "      <th>8 Bedroom</th>\n",
       "      <td>188.073171</td>\n",
       "    </tr>\n",
       "    <tr>\n",
       "      <th>9 BHK</th>\n",
       "      <td>248.250000</td>\n",
       "    </tr>\n",
       "    <tr>\n",
       "      <th>9 Bedroom</th>\n",
       "      <td>240.311111</td>\n",
       "    </tr>\n",
       "  </tbody>\n",
       "</table>\n",
       "</div>"
      ],
      "text/plain": [
       "                 price\n",
       "size                  \n",
       "1 BHK        39.623547\n",
       "1 Bedroom    71.498713\n",
       "1 RK         28.122308\n",
       "10 BHK      342.500000\n",
       "10 Bedroom  285.000000\n",
       "11 BHK      255.000000\n",
       "11 Bedroom  160.000000\n",
       "12 Bedroom  300.000000\n",
       "13 BHK      275.000000\n",
       "14 BHK      125.000000\n",
       "16 BHK      550.000000\n",
       "18 Bedroom  200.000000\n",
       "19 BHK      490.000000\n",
       "2 BHK        57.431773\n",
       "2 Bedroom    93.433884\n",
       "3 BHK       104.957111\n",
       "3 Bedroom   155.018044\n",
       "4 BHK       264.649135\n",
       "4 Bedroom   244.882887\n",
       "5 BHK       334.962963\n",
       "5 Bedroom   232.237113\n",
       "6 BHK       207.833333\n",
       "6 Bedroom   204.386243\n",
       "7 BHK       150.214286\n",
       "7 Bedroom   214.686747\n",
       "8 BHK       172.000000\n",
       "8 Bedroom   188.073171\n",
       "9 BHK       248.250000\n",
       "9 Bedroom   240.311111"
      ]
     },
     "execution_count": 52,
     "metadata": {},
     "output_type": "execute_result"
    }
   ],
   "source": [
    "sizes_avg = data.pivot_table(index='size', values='price')\n",
    "sizes_avg"
   ]
  },
  {
   "cell_type": "markdown",
   "metadata": {},
   "source": [
    "There are cases that this grouping could be a valid solution, for `6 BHK` and `6 Bedroom` or `9 BHK` and `9 Bedroom`, but not for others, so we will leave them this way for the moment."
   ]
  },
  {
   "cell_type": "markdown",
   "metadata": {},
   "source": [
    "# One-hot encoding of categorical variables\n",
    "\n",
    "We need to convert all categorical variables to numerical since scikit-learn accepts only the latter. For that purpose, we will be using 'LabelEncoder' from sklearn´s preprocessing module."
   ]
  },
  {
   "cell_type": "code",
   "execution_count": 53,
   "metadata": {},
   "outputs": [
    {
     "name": "stdout",
     "output_type": "stream",
     "text": [
      "<class 'pandas.core.frame.DataFrame'>\n",
      "RangeIndex: 14674 entries, 0 to 14673\n",
      "Data columns (total 7 columns):\n",
      " #   Column      Non-Null Count  Dtype  \n",
      "---  ------      --------------  -----  \n",
      " 0   area_type   14674 non-null  object \n",
      " 1   size        14674 non-null  object \n",
      " 2   total_sqft  14674 non-null  float64\n",
      " 3   bath        14674 non-null  float64\n",
      " 4   balcony     14674 non-null  float64\n",
      " 5   price       13201 non-null  float64\n",
      " 6   source      14674 non-null  object \n",
      "dtypes: float64(4), object(3)\n",
      "memory usage: 802.6+ KB\n"
     ]
    }
   ],
   "source": [
    "data.info()"
   ]
  },
  {
   "cell_type": "code",
   "execution_count": 54,
   "metadata": {},
   "outputs": [
    {
     "data": {
      "text/plain": [
       "total_sqft     float64\n",
       "bath           float64\n",
       "balcony        float64\n",
       "price          float64\n",
       "source          object\n",
       "area_type_0      uint8\n",
       "area_type_1      uint8\n",
       "area_type_2      uint8\n",
       "area_type_3      uint8\n",
       "size_0           uint8\n",
       "size_1           uint8\n",
       "size_2           uint8\n",
       "size_3           uint8\n",
       "size_4           uint8\n",
       "size_5           uint8\n",
       "size_6           uint8\n",
       "size_7           uint8\n",
       "size_8           uint8\n",
       "size_9           uint8\n",
       "size_10          uint8\n",
       "size_11          uint8\n",
       "size_12          uint8\n",
       "size_13          uint8\n",
       "size_14          uint8\n",
       "size_15          uint8\n",
       "size_16          uint8\n",
       "size_17          uint8\n",
       "size_18          uint8\n",
       "size_19          uint8\n",
       "size_20          uint8\n",
       "size_21          uint8\n",
       "size_22          uint8\n",
       "size_23          uint8\n",
       "size_24          uint8\n",
       "size_25          uint8\n",
       "size_26          uint8\n",
       "size_27          uint8\n",
       "size_28          uint8\n",
       "size_29          uint8\n",
       "dtype: object"
      ]
     },
     "execution_count": 54,
     "metadata": {},
     "output_type": "execute_result"
    }
   ],
   "source": [
    "#Import library:\n",
    "from sklearn.preprocessing import LabelEncoder\n",
    "le = LabelEncoder()\n",
    "\n",
    "# Encoder\n",
    "for i in ['area_type', 'size']:\n",
    "    data[i] = le.fit_transform(data[i])\n",
    "    \n",
    "#One Hot Coding:\n",
    "data = pd.get_dummies(data, columns=['area_type', 'size'])\n",
    "\n",
    "data.dtypes"
   ]
  },
  {
   "cell_type": "markdown",
   "metadata": {},
   "source": [
    "# Exporting Data\n",
    "\n",
    "We are getting back to the train and test data sets."
   ]
  },
  {
   "cell_type": "code",
   "execution_count": 55,
   "metadata": {},
   "outputs": [
    {
     "name": "stderr",
     "output_type": "stream",
     "text": [
      "C:\\Users\\dtorrejon\\Anaconda3\\lib\\site-packages\\pandas\\core\\frame.py:4163: SettingWithCopyWarning: \n",
      "A value is trying to be set on a copy of a slice from a DataFrame\n",
      "\n",
      "See the caveats in the documentation: https://pandas.pydata.org/pandas-docs/stable/user_guide/indexing.html#returning-a-view-versus-a-copy\n",
      "  return super().drop(\n"
     ]
    }
   ],
   "source": [
    "train = data.loc[data['source']=='Train']\n",
    "test = data.loc[data['source']=='Test']\n",
    "\n",
    "# Drop column source:\n",
    "train.drop(['source'], axis=1, inplace=True)\n",
    "test.drop(['source', 'price'], axis=1, inplace=True)\n",
    "\n",
    "# Save the new files:\n",
    "train.to_csv('train_modified.csv', index=False)\n",
    "test.to_csv('train_modified.csv', index=False)"
   ]
  },
  {
   "cell_type": "markdown",
   "metadata": {},
   "source": [
    "# Model Building\n",
    "\n",
    "Since I’ll be making many models, instead of repeating the codes again and again, I would like to define a **generic function** which takes the algorithm and data as input and **makes the model, performs cross-validation and generates submission**."
   ]
  },
  {
   "cell_type": "code",
   "execution_count": 56,
   "metadata": {},
   "outputs": [],
   "source": [
    "#Define target:\n",
    "target = 'price'\n",
    "\n",
    "from sklearn import metrics\n",
    "from sklearn.model_selection import cross_val_score\n",
    "def modelfit(alg, dtrain, dtest, predictors, target, filename):\n",
    "    #Fit the algorithm on the data\n",
    "    alg.fit(dtrain[predictors], dtrain[target])\n",
    "        \n",
    "    #Predict training set:\n",
    "    dtrain_predictions = alg.predict(dtrain[predictors])\n",
    "\n",
    "    #Perform cross-validation with 20 partitions of the data:\n",
    "    cv_score = cross_val_score(alg, dtrain[predictors], dtrain[target], cv=20, scoring='neg_mean_squared_error')\n",
    "    cv_score = np.sqrt(np.abs(cv_score))\n",
    "    \n",
    "    #Print model report:\n",
    "    print (\"\\nModel Report\")\n",
    "    print (\"RMSE : %.4g\" % np.sqrt(metrics.mean_squared_error(dtrain[target].values, dtrain_predictions)))\n",
    "    print (\"CV Score : Mean - %.4g | Std - %.4g | Min - %.4g | Max - %.4g\" % (np.mean(cv_score),np.std(cv_score),np.min(cv_score),np.max(cv_score)))\n",
    "    \n",
    "    #Predict on testing data:\n",
    "    dtest[target] = alg.predict(dtest[predictors])\n",
    "    dtest.to_csv(filename, index=False)"
   ]
  },
  {
   "cell_type": "markdown",
   "metadata": {},
   "source": [
    "## Linear Regression Model"
   ]
  },
  {
   "cell_type": "code",
   "execution_count": 57,
   "metadata": {},
   "outputs": [
    {
     "data": {
      "text/plain": [
       "['total_sqft',\n",
       " 'bath',\n",
       " 'balcony',\n",
       " 'area_type_0',\n",
       " 'area_type_1',\n",
       " 'area_type_2',\n",
       " 'area_type_3',\n",
       " 'size_0',\n",
       " 'size_1',\n",
       " 'size_2',\n",
       " 'size_3',\n",
       " 'size_4',\n",
       " 'size_5',\n",
       " 'size_6',\n",
       " 'size_7',\n",
       " 'size_8',\n",
       " 'size_9',\n",
       " 'size_10',\n",
       " 'size_11',\n",
       " 'size_12',\n",
       " 'size_13',\n",
       " 'size_14',\n",
       " 'size_15',\n",
       " 'size_16',\n",
       " 'size_17',\n",
       " 'size_18',\n",
       " 'size_19',\n",
       " 'size_20',\n",
       " 'size_21',\n",
       " 'size_22',\n",
       " 'size_23',\n",
       " 'size_24',\n",
       " 'size_25',\n",
       " 'size_26',\n",
       " 'size_27',\n",
       " 'size_28',\n",
       " 'size_29']"
      ]
     },
     "execution_count": 57,
     "metadata": {},
     "output_type": "execute_result"
    }
   ],
   "source": [
    "from sklearn.linear_model import LinearRegression, Ridge, Lasso\n",
    "predictors = [x for x in train.columns if x not in [target]]\n",
    "predictors"
   ]
  },
  {
   "cell_type": "code",
   "execution_count": 58,
   "metadata": {},
   "outputs": [
    {
     "name": "stdout",
     "output_type": "stream",
     "text": [
      "\n",
      "Model Report\n",
      "RMSE : 86.48\n",
      "CV Score : Mean - 8.959e+12 | Std - 2.505e+13 | Min - 62.55 | Max - 8.583e+13\n"
     ]
    },
    {
     "name": "stderr",
     "output_type": "stream",
     "text": [
      "<ipython-input-56-a90f21494294>:23: SettingWithCopyWarning: \n",
      "A value is trying to be set on a copy of a slice from a DataFrame.\n",
      "Try using .loc[row_indexer,col_indexer] = value instead\n",
      "\n",
      "See the caveats in the documentation: https://pandas.pydata.org/pandas-docs/stable/user_guide/indexing.html#returning-a-view-versus-a-copy\n",
      "  dtest[target] = alg.predict(dtest[predictors])\n"
     ]
    }
   ],
   "source": [
    "alg1 = LinearRegression(normalize=True)\n",
    "modelfit(alg1, train, test, predictors, target, 'lr.csv')"
   ]
  },
  {
   "cell_type": "code",
   "execution_count": 59,
   "metadata": {},
   "outputs": [
    {
     "data": {
      "text/plain": [
       "<AxesSubplot:>"
      ]
     },
     "execution_count": 59,
     "metadata": {},
     "output_type": "execute_result"
    },
    {
     "data": {
      "image/png": "[encoded data removed]",
      "text/plain": [
       "<Figure size 1152x576 with 1 Axes>"
      ]
     },
     "metadata": {},
     "output_type": "display_data"
    }
   ],
   "source": [
    "coef1 = pd.Series(alg1.coef_, predictors).sort_values()\n",
    "plt.figure(figsize=(16,8))\n",
    "sns.barplot(x=coef1.values, y=coef1.index, orient='h', palette='pastel')"
   ]
  },
  {
   "cell_type": "markdown",
   "metadata": {},
   "source": [
    "## Ridge Regression Model:"
   ]
  },
  {
   "cell_type": "code",
   "execution_count": 60,
   "metadata": {},
   "outputs": [
    {
     "name": "stdout",
     "output_type": "stream",
     "text": [
      "\n",
      "Model Report\n",
      "RMSE : 86.53\n",
      "CV Score : Mean - 86.89 | Std - 12.26 | Min - 62.42 | Max - 112.1\n"
     ]
    },
    {
     "name": "stderr",
     "output_type": "stream",
     "text": [
      "<ipython-input-56-a90f21494294>:23: SettingWithCopyWarning: \n",
      "A value is trying to be set on a copy of a slice from a DataFrame.\n",
      "Try using .loc[row_indexer,col_indexer] = value instead\n",
      "\n",
      "See the caveats in the documentation: https://pandas.pydata.org/pandas-docs/stable/user_guide/indexing.html#returning-a-view-versus-a-copy\n",
      "  dtest[target] = alg.predict(dtest[predictors])\n"
     ]
    },
    {
     "data": {
      "text/plain": [
       "<AxesSubplot:>"
      ]
     },
     "execution_count": 60,
     "metadata": {},
     "output_type": "execute_result"
    },
    {
     "data": {
      "image/png": "[encoded data removed]",
      "text/plain": [
       "<Figure size 1152x576 with 1 Axes>"
      ]
     },
     "metadata": {},
     "output_type": "display_data"
    }
   ],
   "source": [
    "predictors = [x for x in train.columns if x not in [target]]\n",
    "alg2 = Ridge(alpha=0.05,normalize=True)\n",
    "modelfit(alg2, train, test, predictors, target, 'ridge.csv')\n",
    "coef2 = pd.Series(alg2.coef_, predictors).sort_values()\n",
    "plt.figure(figsize=(16,8))\n",
    "sns.barplot(x=coef1.values, y=coef1.index, orient='h', palette='pastel')"
   ]
  },
  {
   "cell_type": "markdown",
   "metadata": {},
   "source": [
    "## Decision Tree Model\n",
    "Lets try out a decision tree model and see if we get something better."
   ]
  },
  {
   "cell_type": "code",
   "execution_count": 61,
   "metadata": {},
   "outputs": [
    {
     "name": "stdout",
     "output_type": "stream",
     "text": [
      "\n",
      "Model Report\n",
      "RMSE : 72.24\n",
      "CV Score : Mean - 72.82 | Std - 9.71 | Min - 57.32 | Max - 93.99\n"
     ]
    },
    {
     "name": "stderr",
     "output_type": "stream",
     "text": [
      "<ipython-input-56-a90f21494294>:23: SettingWithCopyWarning: \n",
      "A value is trying to be set on a copy of a slice from a DataFrame.\n",
      "Try using .loc[row_indexer,col_indexer] = value instead\n",
      "\n",
      "See the caveats in the documentation: https://pandas.pydata.org/pandas-docs/stable/user_guide/indexing.html#returning-a-view-versus-a-copy\n",
      "  dtest[target] = alg.predict(dtest[predictors])\n"
     ]
    },
    {
     "data": {
      "text/plain": [
       "<AxesSubplot:title={'center':'Feature Importances'}>"
      ]
     },
     "execution_count": 61,
     "metadata": {},
     "output_type": "execute_result"
    },
    {
     "data": {
      "image/png": "[encoded data removed]",
      "text/plain": [
       "<Figure size 432x288 with 1 Axes>"
      ]
     },
     "metadata": {},
     "output_type": "display_data"
    }
   ],
   "source": [
    "from sklearn.tree import DecisionTreeRegressor\n",
    "predictors = [x for x in train.columns if x not in [target]]\n",
    "alg3 = DecisionTreeRegressor(max_depth=15, min_samples_leaf=100)\n",
    "modelfit(alg3, train, test, predictors, target, 'dcm.csv')\n",
    "coef3 = pd.Series(alg3.feature_importances_, predictors).sort_values(ascending=False)\n",
    "coef3 = coef3.loc[coef3.values > 0]\n",
    "coef3.plot(kind='bar', title='Feature Importances')"
   ]
  },
  {
   "cell_type": "markdown",
   "metadata": {},
   "source": [
    "## Random Forest Model"
   ]
  },
  {
   "cell_type": "code",
   "execution_count": 63,
   "metadata": {},
   "outputs": [
    {
     "name": "stdout",
     "output_type": "stream",
     "text": [
      "\n",
      "Model Report\n",
      "RMSE : 72.96\n",
      "CV Score : Mean - 73.14 | Std - 10.1 | Min - 56.87 | Max - 97.22\n"
     ]
    },
    {
     "name": "stderr",
     "output_type": "stream",
     "text": [
      "<ipython-input-56-a90f21494294>:23: SettingWithCopyWarning: \n",
      "A value is trying to be set on a copy of a slice from a DataFrame.\n",
      "Try using .loc[row_indexer,col_indexer] = value instead\n",
      "\n",
      "See the caveats in the documentation: https://pandas.pydata.org/pandas-docs/stable/user_guide/indexing.html#returning-a-view-versus-a-copy\n",
      "  dtest[target] = alg.predict(dtest[predictors])\n"
     ]
    },
    {
     "data": {
      "text/plain": [
       "<AxesSubplot:title={'center':'Feature Importances'}>"
      ]
     },
     "execution_count": 63,
     "metadata": {},
     "output_type": "execute_result"
    },
    {
     "data": {
      "image/png": "[encoded data removed]",
      "text/plain": [
       "<Figure size 432x288 with 1 Axes>"
      ]
     },
     "metadata": {},
     "output_type": "display_data"
    }
   ],
   "source": [
    "from sklearn.ensemble import RandomForestRegressor\n",
    "predictors = [x for x in train.columns if x not in [target]]\n",
    "alg4 = RandomForestRegressor(n_estimators=200,max_depth=5, min_samples_leaf=100,n_jobs=4)\n",
    "modelfit(alg4, train, test, predictors, target, 'rfm.csv')\n",
    "coef4 = pd.Series(alg4.feature_importances_, predictors).sort_values(ascending=False)\n",
    "coef4 = coef4.loc[coef4.values > 0.01]\n",
    "coef4.plot(kind='bar', title='Feature Importances')"
   ]
  },
  {
   "cell_type": "markdown",
   "metadata": {},
   "source": [
    "# Submission\n",
    "\n",
    "The best model seems to be the one using the decision tree classifier, so I will use that one for submitting."
   ]
  }
 ],
 "metadata": {
  "kernelspec": {
   "display_name": "Python 3",
   "language": "python",
   "name": "python3"
  },
  "language_info": {
   "codemirror_mode": {
    "name": "ipython",
    "version": 3
   },
   "file_extension": ".py",
   "mimetype": "text/x-python",
   "name": "python",
   "nbconvert_exporter": "python",
   "pygments_lexer": "ipython3",
   "version": "3.8.5"
  }
 },
 "nbformat": 4,
 "nbformat_minor": 4
}
